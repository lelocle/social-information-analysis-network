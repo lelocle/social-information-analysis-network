{
 "cells": [
  {
   "cell_type": "code",
   "execution_count": 1,
   "metadata": {},
   "outputs": [],
   "source": [
    "import pandas as pd\n",
    "from six.moves import cPickle\n",
    "import numpy as np\n",
    "from scipy.sparse import csr_matrix\n",
    "from sklearn.decomposition import TruncatedSVD\n",
    "from scipy.sparse.linalg import svds\n",
    "import matplotlib.pyplot as plt\n",
    "from sklearn.metrics import mean_squared_error\n",
    "%matplotlib inline"
   ]
  },
  {
   "cell_type": "markdown",
   "metadata": {},
   "source": [
    "# 1. Data Loading"
   ]
  },
  {
   "cell_type": "markdown",
   "metadata": {},
   "source": [
    "Loading the review data file and business file"
   ]
  },
  {
   "cell_type": "code",
   "execution_count": 2,
   "metadata": {},
   "outputs": [
    {
     "name": "stderr",
     "output_type": "stream",
     "text": [
      "/Users/chipchop/anaconda3/lib/python3.7/site-packages/IPython/core/interactiveshell.py:3020: DtypeWarning: Columns (1,3) have mixed types. Specify dtype option on import or set low_memory=False.\n",
      "  interactivity=interactivity, compiler=compiler, result=result)\n"
     ]
    }
   ],
   "source": [
    "df_full = pd.read_csv('yelp_academic_dataset_review.csv')"
   ]
  },
  {
   "cell_type": "code",
   "execution_count": 3,
   "metadata": {
    "scrolled": true
   },
   "outputs": [
    {
     "data": {
      "text/html": [
       "<div>\n",
       "<style scoped>\n",
       "    .dataframe tbody tr th:only-of-type {\n",
       "        vertical-align: middle;\n",
       "    }\n",
       "\n",
       "    .dataframe tbody tr th {\n",
       "        vertical-align: top;\n",
       "    }\n",
       "\n",
       "    .dataframe thead th {\n",
       "        text-align: right;\n",
       "    }\n",
       "</style>\n",
       "<table border=\"1\" class=\"dataframe\">\n",
       "  <thead>\n",
       "    <tr style=\"text-align: right;\">\n",
       "      <th></th>\n",
       "      <th>business_id</th>\n",
       "      <th>cool</th>\n",
       "      <th>date</th>\n",
       "      <th>funny</th>\n",
       "      <th>review_id</th>\n",
       "      <th>stars</th>\n",
       "      <th>text</th>\n",
       "      <th>type</th>\n",
       "      <th>useful</th>\n",
       "      <th>user_id</th>\n",
       "    </tr>\n",
       "  </thead>\n",
       "  <tbody>\n",
       "    <tr>\n",
       "      <th>0</th>\n",
       "      <td>2aFiy99vNLklCx3T_tGS9A</td>\n",
       "      <td>0</td>\n",
       "      <td>2011-10-10</td>\n",
       "      <td>0</td>\n",
       "      <td>NxL8SIC5yqOdnlXCg18IBg</td>\n",
       "      <td>5.0</td>\n",
       "      <td>If you enjoy service by someone who is as comp...</td>\n",
       "      <td>review</td>\n",
       "      <td>0.0</td>\n",
       "      <td>KpkOkG6RIf4Ra25Lhhxf1A</td>\n",
       "    </tr>\n",
       "    <tr>\n",
       "      <th>1</th>\n",
       "      <td>2aFiy99vNLklCx3T_tGS9A</td>\n",
       "      <td>0</td>\n",
       "      <td>2010-12-29</td>\n",
       "      <td>0</td>\n",
       "      <td>pXbbIgOXvLuTi_SPs1hQEQ</td>\n",
       "      <td>5.0</td>\n",
       "      <td>After being on the phone with Verizon Wireless...</td>\n",
       "      <td>review</td>\n",
       "      <td>1.0</td>\n",
       "      <td>bQ7fQq1otn9hKX-gXRsrgA</td>\n",
       "    </tr>\n",
       "    <tr>\n",
       "      <th>2</th>\n",
       "      <td>2aFiy99vNLklCx3T_tGS9A</td>\n",
       "      <td>0</td>\n",
       "      <td>2011-04-29</td>\n",
       "      <td>0</td>\n",
       "      <td>wslW2Lu4NYylb1jEapAGsw</td>\n",
       "      <td>5.0</td>\n",
       "      <td>Great service! Corey is very service oriented....</td>\n",
       "      <td>review</td>\n",
       "      <td>0.0</td>\n",
       "      <td>r1NUhdNmL6yU9Bn-Yx6FTw</td>\n",
       "    </tr>\n",
       "    <tr>\n",
       "      <th>3</th>\n",
       "      <td>2LfIuF3_sX6uwe-IR-P0jQ</td>\n",
       "      <td>1</td>\n",
       "      <td>2014-07-14</td>\n",
       "      <td>0</td>\n",
       "      <td>GP6YEearUWrzPtQYSF1vVg</td>\n",
       "      <td>5.0</td>\n",
       "      <td>Highly recommended. Went in yesterday looking ...</td>\n",
       "      <td>review</td>\n",
       "      <td>0.0</td>\n",
       "      <td>aW3ix1KNZAvoM8q-WghA3Q</td>\n",
       "    </tr>\n",
       "    <tr>\n",
       "      <th>4</th>\n",
       "      <td>2LfIuF3_sX6uwe-IR-P0jQ</td>\n",
       "      <td>0</td>\n",
       "      <td>2014-01-15</td>\n",
       "      <td>0</td>\n",
       "      <td>25RlYGq2s5qShi-pn3ufVA</td>\n",
       "      <td>4.0</td>\n",
       "      <td>I walked in here looking for a specific piece ...</td>\n",
       "      <td>review</td>\n",
       "      <td>0.0</td>\n",
       "      <td>YOo-Cip8HqvKp_p9nEGphw</td>\n",
       "    </tr>\n",
       "  </tbody>\n",
       "</table>\n",
       "</div>"
      ],
      "text/plain": [
       "              business_id cool        date funny               review_id  \\\n",
       "0  2aFiy99vNLklCx3T_tGS9A    0  2011-10-10     0  NxL8SIC5yqOdnlXCg18IBg   \n",
       "1  2aFiy99vNLklCx3T_tGS9A    0  2010-12-29     0  pXbbIgOXvLuTi_SPs1hQEQ   \n",
       "2  2aFiy99vNLklCx3T_tGS9A    0  2011-04-29     0  wslW2Lu4NYylb1jEapAGsw   \n",
       "3  2LfIuF3_sX6uwe-IR-P0jQ    1  2014-07-14     0  GP6YEearUWrzPtQYSF1vVg   \n",
       "4  2LfIuF3_sX6uwe-IR-P0jQ    0  2014-01-15     0  25RlYGq2s5qShi-pn3ufVA   \n",
       "\n",
       "   stars                                               text    type  useful  \\\n",
       "0    5.0  If you enjoy service by someone who is as comp...  review     0.0   \n",
       "1    5.0  After being on the phone with Verizon Wireless...  review     1.0   \n",
       "2    5.0  Great service! Corey is very service oriented....  review     0.0   \n",
       "3    5.0  Highly recommended. Went in yesterday looking ...  review     0.0   \n",
       "4    4.0  I walked in here looking for a specific piece ...  review     0.0   \n",
       "\n",
       "                  user_id  \n",
       "0  KpkOkG6RIf4Ra25Lhhxf1A  \n",
       "1  bQ7fQq1otn9hKX-gXRsrgA  \n",
       "2  r1NUhdNmL6yU9Bn-Yx6FTw  \n",
       "3  aW3ix1KNZAvoM8q-WghA3Q  \n",
       "4  YOo-Cip8HqvKp_p9nEGphw  "
      ]
     },
     "execution_count": 3,
     "metadata": {},
     "output_type": "execute_result"
    }
   ],
   "source": [
    "df_full.head()"
   ]
  },
  {
   "cell_type": "code",
   "execution_count": 4,
   "metadata": {},
   "outputs": [],
   "source": [
    "df_bus = pd.read_csv('yelp_academic_dataset_business.csv')"
   ]
  },
  {
   "cell_type": "code",
   "execution_count": 5,
   "metadata": {},
   "outputs": [
    {
     "name": "stdout",
     "output_type": "stream",
     "text": [
      "Columns in business data file are:\n",
      "address\n",
      "attribute_AcceptsInsurance\n",
      "attribute_AgesAllowed\n",
      "attribute_Alcohol\n",
      "attribute_Ambience_casual\n",
      "attribute_Ambience_classy\n",
      "attribute_Ambience_divey\n",
      "attribute_Ambience_hipster\n",
      "attribute_Ambience_intimate\n",
      "attribute_Ambience_romantic\n",
      "attribute_Ambience_touristy\n",
      "attribute_Ambience_trendy\n",
      "attribute_Ambience_upscale\n",
      "attribute_BYOB\n",
      "attribute_BYOBCorkage\n",
      "attribute_BestNights_friday\n",
      "attribute_BestNights_monday\n",
      "attribute_BestNights_saturday\n",
      "attribute_BestNights_sunday\n",
      "attribute_BestNights_thursday\n",
      "attribute_BestNights_tuesday\n",
      "attribute_BestNights_wednesday\n",
      "attribute_BikeParking\n",
      "attribute_BusinessAcceptsBitcoin\n",
      "attribute_BusinessAcceptsCreditCards\n",
      "attribute_BusinessParking_garage\n",
      "attribute_BusinessParking_lot\n",
      "attribute_BusinessParking_street\n",
      "attribute_BusinessParking_valet\n",
      "attribute_BusinessParking_validated\n",
      "attribute_ByAppointmentOnly\n",
      "attribute_Caters\n",
      "attribute_CoatCheck\n",
      "attribute_Corkage\n",
      "attribute_DietaryRestrictions_dairy-free\n",
      "attribute_DietaryRestrictions_gluten-free\n",
      "attribute_DietaryRestrictions_halal\n",
      "attribute_DietaryRestrictions_kosher\n",
      "attribute_DietaryRestrictions_soy-free\n",
      "attribute_DietaryRestrictions_vegan\n",
      "attribute_DietaryRestrictions_vegetarian\n",
      "attribute_DogsAllowed\n",
      "attribute_DriveThru\n",
      "attribute_GoodForDancing\n",
      "attribute_GoodForKids\n",
      "attribute_GoodForMeal_breakfast\n",
      "attribute_GoodForMeal_brunch\n",
      "attribute_GoodForMeal_dessert\n",
      "attribute_GoodForMeal_dinner\n",
      "attribute_GoodForMeal_latenight\n",
      "attribute_GoodForMeal_lunch\n",
      "attribute_HairSpecializesIn_africanamerican\n",
      "attribute_HairSpecializesIn_asian\n",
      "attribute_HairSpecializesIn_coloring\n",
      "attribute_HairSpecializesIn_curly\n",
      "attribute_HairSpecializesIn_extensions\n",
      "attribute_HairSpecializesIn_kids\n",
      "attribute_HairSpecializesIn_perms\n",
      "attribute_HairSpecializesIn_straightperms\n",
      "attribute_HappyHour\n",
      "attribute_HasTV\n",
      "attribute_Music_background_music\n",
      "attribute_Music_dj\n",
      "attribute_Music_jukebox\n",
      "attribute_Music_karaoke\n",
      "attribute_Music_live\n",
      "attribute_Music_no_music\n",
      "attribute_Music_video\n",
      "attribute_NoiseLevel\n",
      "attribute_Open24Hours\n",
      "attribute_OutdoorSeating\n",
      "attribute_RestaurantsAttire\n",
      "attribute_RestaurantsCounterService\n",
      "attribute_RestaurantsDelivery\n",
      "attribute_RestaurantsGoodForGroups\n",
      "attribute_RestaurantsPriceRange2\n",
      "attribute_RestaurantsReservations\n",
      "attribute_RestaurantsTableService\n",
      "attribute_RestaurantsTakeOut\n",
      "attribute_Smoking\n",
      "attribute_WheelchairAccessible\n",
      "attribute_WiFi\n",
      "business_id\n",
      "categories\n",
      "city\n",
      "hours_Friday\n",
      "hours_Monday\n",
      "hours_Saturday\n",
      "hours_Sunday\n",
      "hours_Thursday\n",
      "hours_Tuesday\n",
      "hours_Wednesday\n",
      "is_open\n",
      "latitude\n",
      "longitude\n",
      "name\n",
      "neighborhood\n",
      "postal_code\n",
      "review_count\n",
      "stars\n",
      "state\n",
      "type\n"
     ]
    }
   ],
   "source": [
    "print(\"Columns in business data file are:\")\n",
    "for i in df_bus.columns:\n",
    "    print(i)"
   ]
  },
  {
   "cell_type": "markdown",
   "metadata": {},
   "source": [
    "# 2. Data Exploration, Data Cleaning and Matrix Building "
   ]
  },
  {
   "cell_type": "markdown",
   "metadata": {},
   "source": [
    "## 2.a. Number of businesses in each city:"
   ]
  },
  {
   "cell_type": "code",
   "execution_count": 6,
   "metadata": {},
   "outputs": [
    {
     "data": {
      "text/plain": [
       "<matplotlib.axes._subplots.AxesSubplot at 0x1a2ec65b38>"
      ]
     },
     "execution_count": 6,
     "metadata": {},
     "output_type": "execute_result"
    },
    {
     "data": {
      "image/png": "[encoded data removed]",
      "text/plain": [
       "<Figure size 432x288 with 1 Axes>"
      ]
     },
     "metadata": {
      "needs_background": "light"
     },
     "output_type": "display_data"
    }
   ],
   "source": [
    "df_bus_groups = df_bus.groupby('city').count()\n",
    "df_bus_city = df_bus_groups['name']\n",
    "df_bus_city_sorted = df_bus_city.sort_values(ascending = False)\n",
    "df_bus_city_sorted[:30].plot(kind = 'bar')"
   ]
  },
  {
   "cell_type": "markdown",
   "metadata": {},
   "source": [
    "## 2.b. Different Type of Businesses and their Count:"
   ]
  },
  {
   "cell_type": "code",
   "execution_count": 7,
   "metadata": {},
   "outputs": [
    {
     "data": {
      "text/plain": [
       "<matplotlib.axes._subplots.AxesSubplot at 0x1a1f5e4d30>"
      ]
     },
     "execution_count": 7,
     "metadata": {},
     "output_type": "execute_result"
    },
    {
     "data": {
      "image/png": "[encoded data removed]",
      "text/plain": [
       "<Figure size 432x288 with 1 Axes>"
      ]
     },
     "metadata": {
      "needs_background": "light"
     },
     "output_type": "display_data"
    }
   ],
   "source": [
    "uniq_cat_dict = {}\n",
    "for i in df_bus.categories:\n",
    "    cat = str(i).split(',')\n",
    "    for j in cat:\n",
    "        if j not in uniq_cat_dict.keys():\n",
    "            uniq_cat_dict[j] = 1\n",
    "        else:\n",
    "            uniq_cat_dict[j] += 1\n",
    "uniq_cat_series = pd.Series(uniq_cat_dict)\n",
    "uniq_cat_series.sort_values(ascending = False, inplace = True)\n",
    "uniq_cat_series[:30].plot(kind = 'bar')"
   ]
  },
  {
   "cell_type": "markdown",
   "metadata": {},
   "source": [
    "## 2.c. Business and City Ordered pairs and their count:"
   ]
  },
  {
   "cell_type": "code",
   "execution_count": 8,
   "metadata": {},
   "outputs": [
    {
     "data": {
      "text/plain": [
       "<matplotlib.axes._subplots.AxesSubplot at 0x1a201c9470>"
      ]
     },
     "execution_count": 8,
     "metadata": {},
     "output_type": "execute_result"
    },
    {
     "data": {
      "image/png": "[encoded data removed]",
      "text/plain": [
       "<Figure size 432x288 with 1 Axes>"
      ]
     },
     "metadata": {
      "needs_background": "light"
     },
     "output_type": "display_data"
    }
   ],
   "source": [
    "business_city = {}\n",
    "n = len(df_bus)\n",
    "for i in range(n):\n",
    "    k1 = str(df_bus.categories.iloc[i]).split(',')\n",
    "    k2 = df_bus.city.iloc[i]\n",
    "    for j in k1:\n",
    "        k = (j,k2)\n",
    "        if k not in business_city.keys():\n",
    "            business_city[k] = 1\n",
    "        else:\n",
    "            business_city[k] += 1\n",
    "business_city_series = pd.Series(business_city)\n",
    "business_city_series.sort_values(ascending = False, inplace = True)\n",
    "business_city_series[:30].plot(kind = 'bar')"
   ]
  },
  {
   "cell_type": "markdown",
   "metadata": {},
   "source": [
    "## Inferences from 2.a, 2.b and 2.c"
   ]
  },
  {
   "cell_type": "markdown",
   "metadata": {},
   "source": [
    "It can be seen that most of the businesses listed on the Yelp are Restaurants, Shopping places and Recreational Centers. For this given data set (obtained from Yelp's Website), top cities with maximum businesses are Las Vegas, Phoenix, and Toronto."
   ]
  },
  {
   "cell_type": "markdown",
   "metadata": {},
   "source": [
    "## 2.d. Cleaning the review data"
   ]
  },
  {
   "cell_type": "markdown",
   "metadata": {},
   "source": [
    "Dropping the unwanted columns like 'text': review text, 'useful': Number of people rated it useful, 'date',etc.\n",
    "The columns left are 'user_id', 'business_id' and 'stars'."
   ]
  },
  {
   "cell_type": "code",
   "execution_count": 9,
   "metadata": {},
   "outputs": [
    {
     "data": {
      "text/html": [
       "<div>\n",
       "<style scoped>\n",
       "    .dataframe tbody tr th:only-of-type {\n",
       "        vertical-align: middle;\n",
       "    }\n",
       "\n",
       "    .dataframe tbody tr th {\n",
       "        vertical-align: top;\n",
       "    }\n",
       "\n",
       "    .dataframe thead th {\n",
       "        text-align: right;\n",
       "    }\n",
       "</style>\n",
       "<table border=\"1\" class=\"dataframe\">\n",
       "  <thead>\n",
       "    <tr style=\"text-align: right;\">\n",
       "      <th></th>\n",
       "      <th>business_id</th>\n",
       "      <th>review_id</th>\n",
       "      <th>stars</th>\n",
       "      <th>type</th>\n",
       "      <th>user_id</th>\n",
       "    </tr>\n",
       "  </thead>\n",
       "  <tbody>\n",
       "    <tr>\n",
       "      <th>0</th>\n",
       "      <td>2aFiy99vNLklCx3T_tGS9A</td>\n",
       "      <td>NxL8SIC5yqOdnlXCg18IBg</td>\n",
       "      <td>5.0</td>\n",
       "      <td>review</td>\n",
       "      <td>KpkOkG6RIf4Ra25Lhhxf1A</td>\n",
       "    </tr>\n",
       "    <tr>\n",
       "      <th>1</th>\n",
       "      <td>2aFiy99vNLklCx3T_tGS9A</td>\n",
       "      <td>pXbbIgOXvLuTi_SPs1hQEQ</td>\n",
       "      <td>5.0</td>\n",
       "      <td>review</td>\n",
       "      <td>bQ7fQq1otn9hKX-gXRsrgA</td>\n",
       "    </tr>\n",
       "    <tr>\n",
       "      <th>2</th>\n",
       "      <td>2aFiy99vNLklCx3T_tGS9A</td>\n",
       "      <td>wslW2Lu4NYylb1jEapAGsw</td>\n",
       "      <td>5.0</td>\n",
       "      <td>review</td>\n",
       "      <td>r1NUhdNmL6yU9Bn-Yx6FTw</td>\n",
       "    </tr>\n",
       "    <tr>\n",
       "      <th>3</th>\n",
       "      <td>2LfIuF3_sX6uwe-IR-P0jQ</td>\n",
       "      <td>GP6YEearUWrzPtQYSF1vVg</td>\n",
       "      <td>5.0</td>\n",
       "      <td>review</td>\n",
       "      <td>aW3ix1KNZAvoM8q-WghA3Q</td>\n",
       "    </tr>\n",
       "    <tr>\n",
       "      <th>4</th>\n",
       "      <td>2LfIuF3_sX6uwe-IR-P0jQ</td>\n",
       "      <td>25RlYGq2s5qShi-pn3ufVA</td>\n",
       "      <td>4.0</td>\n",
       "      <td>review</td>\n",
       "      <td>YOo-Cip8HqvKp_p9nEGphw</td>\n",
       "    </tr>\n",
       "  </tbody>\n",
       "</table>\n",
       "</div>"
      ],
      "text/plain": [
       "              business_id               review_id  stars    type  \\\n",
       "0  2aFiy99vNLklCx3T_tGS9A  NxL8SIC5yqOdnlXCg18IBg    5.0  review   \n",
       "1  2aFiy99vNLklCx3T_tGS9A  pXbbIgOXvLuTi_SPs1hQEQ    5.0  review   \n",
       "2  2aFiy99vNLklCx3T_tGS9A  wslW2Lu4NYylb1jEapAGsw    5.0  review   \n",
       "3  2LfIuF3_sX6uwe-IR-P0jQ  GP6YEearUWrzPtQYSF1vVg    5.0  review   \n",
       "4  2LfIuF3_sX6uwe-IR-P0jQ  25RlYGq2s5qShi-pn3ufVA    4.0  review   \n",
       "\n",
       "                  user_id  \n",
       "0  KpkOkG6RIf4Ra25Lhhxf1A  \n",
       "1  bQ7fQq1otn9hKX-gXRsrgA  \n",
       "2  r1NUhdNmL6yU9Bn-Yx6FTw  \n",
       "3  aW3ix1KNZAvoM8q-WghA3Q  \n",
       "4  YOo-Cip8HqvKp_p9nEGphw  "
      ]
     },
     "execution_count": 9,
     "metadata": {},
     "output_type": "execute_result"
    }
   ],
   "source": [
    "df_reduced = df_full.drop(['text','useful','cool', 'date', 'funny'], axis = 1)\n",
    "df_reduced.head()"
   ]
  },
  {
   "cell_type": "markdown",
   "metadata": {},
   "source": [
    "## 2.e. Merging the business data with the review data"
   ]
  },
  {
   "cell_type": "markdown",
   "metadata": {},
   "source": [
    "Merging the business data and the review data on the 'business_id'. Information like 'city' of the business and 'categories' of the business were taken from the business data file."
   ]
  },
  {
   "cell_type": "code",
   "execution_count": 10,
   "metadata": {
    "scrolled": true
   },
   "outputs": [
    {
     "data": {
      "text/html": [
       "<div>\n",
       "<style scoped>\n",
       "    .dataframe tbody tr th:only-of-type {\n",
       "        vertical-align: middle;\n",
       "    }\n",
       "\n",
       "    .dataframe tbody tr th {\n",
       "        vertical-align: top;\n",
       "    }\n",
       "\n",
       "    .dataframe thead th {\n",
       "        text-align: right;\n",
       "    }\n",
       "</style>\n",
       "<table border=\"1\" class=\"dataframe\">\n",
       "  <thead>\n",
       "    <tr style=\"text-align: right;\">\n",
       "      <th></th>\n",
       "      <th>business_id</th>\n",
       "      <th>review_id</th>\n",
       "      <th>stars</th>\n",
       "      <th>type</th>\n",
       "      <th>user_id</th>\n",
       "      <th>city</th>\n",
       "      <th>categories</th>\n",
       "    </tr>\n",
       "  </thead>\n",
       "  <tbody>\n",
       "    <tr>\n",
       "      <th>0</th>\n",
       "      <td>2aFiy99vNLklCx3T_tGS9A</td>\n",
       "      <td>NxL8SIC5yqOdnlXCg18IBg</td>\n",
       "      <td>5.0</td>\n",
       "      <td>review</td>\n",
       "      <td>KpkOkG6RIf4Ra25Lhhxf1A</td>\n",
       "      <td>Phoenix</td>\n",
       "      <td>IT Services &amp; Computer Repair, Local Services,...</td>\n",
       "    </tr>\n",
       "    <tr>\n",
       "      <th>1</th>\n",
       "      <td>2aFiy99vNLklCx3T_tGS9A</td>\n",
       "      <td>pXbbIgOXvLuTi_SPs1hQEQ</td>\n",
       "      <td>5.0</td>\n",
       "      <td>review</td>\n",
       "      <td>bQ7fQq1otn9hKX-gXRsrgA</td>\n",
       "      <td>Phoenix</td>\n",
       "      <td>IT Services &amp; Computer Repair, Local Services,...</td>\n",
       "    </tr>\n",
       "    <tr>\n",
       "      <th>2</th>\n",
       "      <td>2aFiy99vNLklCx3T_tGS9A</td>\n",
       "      <td>wslW2Lu4NYylb1jEapAGsw</td>\n",
       "      <td>5.0</td>\n",
       "      <td>review</td>\n",
       "      <td>r1NUhdNmL6yU9Bn-Yx6FTw</td>\n",
       "      <td>Phoenix</td>\n",
       "      <td>IT Services &amp; Computer Repair, Local Services,...</td>\n",
       "    </tr>\n",
       "    <tr>\n",
       "      <th>3</th>\n",
       "      <td>2LfIuF3_sX6uwe-IR-P0jQ</td>\n",
       "      <td>GP6YEearUWrzPtQYSF1vVg</td>\n",
       "      <td>5.0</td>\n",
       "      <td>review</td>\n",
       "      <td>aW3ix1KNZAvoM8q-WghA3Q</td>\n",
       "      <td>Phoenix</td>\n",
       "      <td>Antiques, Home &amp; Garden, Home Decor, Shopping</td>\n",
       "    </tr>\n",
       "    <tr>\n",
       "      <th>4</th>\n",
       "      <td>2LfIuF3_sX6uwe-IR-P0jQ</td>\n",
       "      <td>25RlYGq2s5qShi-pn3ufVA</td>\n",
       "      <td>4.0</td>\n",
       "      <td>review</td>\n",
       "      <td>YOo-Cip8HqvKp_p9nEGphw</td>\n",
       "      <td>Phoenix</td>\n",
       "      <td>Antiques, Home &amp; Garden, Home Decor, Shopping</td>\n",
       "    </tr>\n",
       "  </tbody>\n",
       "</table>\n",
       "</div>"
      ],
      "text/plain": [
       "              business_id               review_id  stars    type  \\\n",
       "0  2aFiy99vNLklCx3T_tGS9A  NxL8SIC5yqOdnlXCg18IBg    5.0  review   \n",
       "1  2aFiy99vNLklCx3T_tGS9A  pXbbIgOXvLuTi_SPs1hQEQ    5.0  review   \n",
       "2  2aFiy99vNLklCx3T_tGS9A  wslW2Lu4NYylb1jEapAGsw    5.0  review   \n",
       "3  2LfIuF3_sX6uwe-IR-P0jQ  GP6YEearUWrzPtQYSF1vVg    5.0  review   \n",
       "4  2LfIuF3_sX6uwe-IR-P0jQ  25RlYGq2s5qShi-pn3ufVA    4.0  review   \n",
       "\n",
       "                  user_id     city  \\\n",
       "0  KpkOkG6RIf4Ra25Lhhxf1A  Phoenix   \n",
       "1  bQ7fQq1otn9hKX-gXRsrgA  Phoenix   \n",
       "2  r1NUhdNmL6yU9Bn-Yx6FTw  Phoenix   \n",
       "3  aW3ix1KNZAvoM8q-WghA3Q  Phoenix   \n",
       "4  YOo-Cip8HqvKp_p9nEGphw  Phoenix   \n",
       "\n",
       "                                          categories  \n",
       "0  IT Services & Computer Repair, Local Services,...  \n",
       "1  IT Services & Computer Repair, Local Services,...  \n",
       "2  IT Services & Computer Repair, Local Services,...  \n",
       "3      Antiques, Home & Garden, Home Decor, Shopping  \n",
       "4      Antiques, Home & Garden, Home Decor, Shopping  "
      ]
     },
     "execution_count": 10,
     "metadata": {},
     "output_type": "execute_result"
    }
   ],
   "source": [
    "df_merged = df_reduced.merge(df_bus[['city','categories', 'business_id']], how = 'outer', on= 'business_id')\n",
    "df_merged.head()"
   ]
  },
  {
   "cell_type": "code",
   "execution_count": 11,
   "metadata": {},
   "outputs": [],
   "source": [
    "df_cleaned = df_merged.dropna()"
   ]
  },
  {
   "cell_type": "markdown",
   "metadata": {},
   "source": [
    "## 2.f. Getting the top Business and City for which highest number of reviews are obtained"
   ]
  },
  {
   "cell_type": "code",
   "execution_count": 12,
   "metadata": {},
   "outputs": [],
   "source": [
    "def topm_num_reviews_for_city_n_biz(df,m):\n",
    "    business_city_count = {}\n",
    "    n = len(df)\n",
    "    for i in range(n):\n",
    "        k1 = str(df.categories.iloc[i]).split(',')\n",
    "        k2 = df.city.iloc[i]\n",
    "        for j in k1:\n",
    "            k = (j,k2)\n",
    "            if k not in business_city_count.keys():\n",
    "                business_city_count[k] = 1\n",
    "            else:\n",
    "                business_city_count[k] += 1\n",
    "    business_city_count_series = pd.Series(business_city_count)\n",
    "    business_city_count_series.sort_values(ascending = False, inplace = True)\n",
    "    return business_city_count_series"
   ]
  },
  {
   "cell_type": "code",
   "execution_count": 13,
   "metadata": {
    "scrolled": true
   },
   "outputs": [
    {
     "data": {
      "text/plain": [
       "<matplotlib.axes._subplots.AxesSubplot at 0x1a219da710>"
      ]
     },
     "execution_count": 13,
     "metadata": {},
     "output_type": "execute_result"
    },
    {
     "data": {
      "image/png": "[encoded data removed]",
      "text/plain": [
       "<Figure size 432x288 with 1 Axes>"
      ]
     },
     "metadata": {
      "needs_background": "light"
     },
     "output_type": "display_data"
    }
   ],
   "source": [
    "review_business_city = topm_num_reviews_for_city_n_biz(df_cleaned,10)\n",
    "review_business_city[:30].plot(kind = 'bar')"
   ]
  },
  {
   "cell_type": "code",
   "execution_count": 14,
   "metadata": {},
   "outputs": [
    {
     "data": {
      "text/plain": [
       "(252976, 7)"
      ]
     },
     "execution_count": 14,
     "metadata": {},
     "output_type": "execute_result"
    }
   ],
   "source": [
    "rest_phoenix_reviews = df_cleaned[(df_cleaned.city == 'Phoenix') & (df_cleaned.categories.str.contains('.Restaurant.', case= False))]\n",
    "rest_phoenix_reviews.shape"
   ]
  },
  {
   "cell_type": "code",
   "execution_count": 15,
   "metadata": {},
   "outputs": [
    {
     "data": {
      "text/plain": [
       "(223717, 7)"
      ]
     },
     "execution_count": 15,
     "metadata": {},
     "output_type": "execute_result"
    }
   ],
   "source": [
    "rest_toronto_reviews = df_cleaned[(df_cleaned.city == 'Toronto') & (df_cleaned.categories.str.contains('.Restaurant.', case= False))]\n",
    "rest_toronto_reviews.shape"
   ]
  },
  {
   "cell_type": "code",
   "execution_count": 16,
   "metadata": {},
   "outputs": [],
   "source": [
    "def get_clean_df(df, min_user_review = 30, min_res_review = 0, cols = ['user_id', 'business_id', 'stars']):\n",
    "    '''Cleans the df and gets rid of the unwanted cols and also allows to filter the user and business based on the min number of reviews received'''\n",
    "    df_new = df[cols]\n",
    "    df_new.dropna(axis = 0, how = 'any', inplace = True)\n",
    "    df_new[cols[1]+'_freq'] = df_new.groupby(cols[1])[cols[1]].transform('count')\n",
    "    df_clean = df_new[df_new[cols[1]+'_freq']>=min_res_review]\n",
    "    df_clean[cols[0]+'_freq'] = df_clean.groupby(cols[0])[cols[0]].transform('count')\n",
    "    df_clean_2 = df_clean[df_clean[cols[0]+'_freq']>=min_user_review]\n",
    "    return df_clean_2"
   ]
  },
  {
   "cell_type": "code",
   "execution_count": 17,
   "metadata": {},
   "outputs": [],
   "source": [
    "def get_sparsity(sparse_matrix):\n",
    "    return 1 - sparse_matrix.nnz/(sparse_matrix.shape[0]*sparse_matrix.shape[1])"
   ]
  },
  {
   "cell_type": "code",
   "execution_count": 24,
   "metadata": {},
   "outputs": [],
   "source": [
    "def get_sparse_matrix(df):\n",
    "    '''Converts the df into a sparse ratings matrix'''\n",
    "    unique_users = list(df['user_id'].unique())\n",
    "    unique_bus = list(df['business_id'].unique())\n",
    "    data = df['stars'].tolist()\n",
    "    row = df['user_id'].astype('category', categories=unique_users).cat.codes\n",
    "    col = df['business_id'].astype('category', categories=unique_bus).cat.codes\n",
    "    sparse_matrix = csr_matrix((data, (row, col)), shape=(len(unique_users), len(unique_bus)))\n",
    "    return sparse_matrix"
   ]
  },
  {
   "cell_type": "code",
   "execution_count": 25,
   "metadata": {},
   "outputs": [
    {
     "name": "stderr",
     "output_type": "stream",
     "text": [
      "/Users/chipchop/anaconda3/lib/python3.7/site-packages/ipykernel_launcher.py:4: SettingWithCopyWarning: \n",
      "A value is trying to be set on a copy of a slice from a DataFrame\n",
      "\n",
      "See the caveats in the documentation: http://pandas.pydata.org/pandas-docs/stable/indexing.html#indexing-view-versus-copy\n",
      "  after removing the cwd from sys.path.\n",
      "/Users/chipchop/anaconda3/lib/python3.7/site-packages/ipykernel_launcher.py:5: SettingWithCopyWarning: \n",
      "A value is trying to be set on a copy of a slice from a DataFrame.\n",
      "Try using .loc[row_indexer,col_indexer] = value instead\n",
      "\n",
      "See the caveats in the documentation: http://pandas.pydata.org/pandas-docs/stable/indexing.html#indexing-view-versus-copy\n",
      "  \"\"\"\n",
      "/Users/chipchop/anaconda3/lib/python3.7/site-packages/ipykernel_launcher.py:6: FutureWarning: specifying 'categories' or 'ordered' in .astype() is deprecated; pass a CategoricalDtype instead\n",
      "  \n",
      "/Users/chipchop/anaconda3/lib/python3.7/site-packages/ipykernel_launcher.py:7: FutureWarning: specifying 'categories' or 'ordered' in .astype() is deprecated; pass a CategoricalDtype instead\n",
      "  import sys\n"
     ]
    },
    {
     "name": "stdout",
     "output_type": "stream",
     "text": [
      "0.9859787688113002\n",
      "0.9804178114417487\n",
      "(1356, 2893)\n",
      "(741, 2788)\n"
     ]
    }
   ],
   "source": [
    "u_20_phx = get_sparse_matrix(get_clean_df(rest_phoenix_reviews, min_user_review=20))\n",
    "u_30_phx = get_sparse_matrix(get_clean_df(rest_phoenix_reviews, min_user_review=30))\n",
    "print(get_sparsity(u_20_phx))\n",
    "print(get_sparsity(u_30_phx))\n",
    "print(u_20_phx.shape)\n",
    "print(u_30_phx.shape)"
   ]
  },
  {
   "cell_type": "code",
   "execution_count": 26,
   "metadata": {},
   "outputs": [
    {
     "name": "stderr",
     "output_type": "stream",
     "text": [
      "/Users/chipchop/anaconda3/lib/python3.7/site-packages/ipykernel_launcher.py:4: SettingWithCopyWarning: \n",
      "A value is trying to be set on a copy of a slice from a DataFrame\n",
      "\n",
      "See the caveats in the documentation: http://pandas.pydata.org/pandas-docs/stable/indexing.html#indexing-view-versus-copy\n",
      "  after removing the cwd from sys.path.\n",
      "/Users/chipchop/anaconda3/lib/python3.7/site-packages/ipykernel_launcher.py:5: SettingWithCopyWarning: \n",
      "A value is trying to be set on a copy of a slice from a DataFrame.\n",
      "Try using .loc[row_indexer,col_indexer] = value instead\n",
      "\n",
      "See the caveats in the documentation: http://pandas.pydata.org/pandas-docs/stable/indexing.html#indexing-view-versus-copy\n",
      "  \"\"\"\n"
     ]
    },
    {
     "name": "stdout",
     "output_type": "stream",
     "text": [
      "Number of Reviews for Restaurants in Phoenix:  87610\n",
      "Number of Reviews for Restaurants in Toronto:  114829\n"
     ]
    }
   ],
   "source": [
    "user_min_10_phoenix_res = get_clean_df(rest_phoenix_reviews, min_user_review=10)\n",
    "print(\"Number of Reviews for Restaurants in Phoenix: \", user_min_10_phoenix_res.shape[0])\n",
    "user_min_10_toronto_res = get_clean_df(rest_toronto_reviews, min_user_review=10)\n",
    "print(\"Number of Reviews for Restaurants in Toronto: \", user_min_10_toronto_res.shape[0])"
   ]
  },
  {
   "cell_type": "code",
   "execution_count": 27,
   "metadata": {},
   "outputs": [
    {
     "name": "stdout",
     "output_type": "stream",
     "text": [
      "Unique Restaurants in Phoenix = 3053\n",
      "Unique Users in Phoenix = 3829\n",
      "Unique Restaurants in Toronto = 5672\n",
      "Unique Users in Toronto = 4210\n"
     ]
    }
   ],
   "source": [
    "print(\"Unique Restaurants in Phoenix =\",len(user_min_10_phoenix_res.business_id.unique()))\n",
    "print(\"Unique Users in Phoenix =\",len(user_min_10_phoenix_res.user_id.unique()))\n",
    "print(\"Unique Restaurants in Toronto =\",len(user_min_10_toronto_res.business_id.unique()))\n",
    "print(\"Unique Users in Toronto =\",len(user_min_10_toronto_res.user_id.unique()))"
   ]
  },
  {
   "cell_type": "code",
   "execution_count": 28,
   "metadata": {},
   "outputs": [
    {
     "name": "stdout",
     "output_type": "stream",
     "text": [
      "Shape of ratings matrix for Restaurants in Phoenix = (3829, 3053)\n",
      "Shape of ratings matrix for Restaurants in Toronto = (4210, 5672)\n"
     ]
    },
    {
     "name": "stderr",
     "output_type": "stream",
     "text": [
      "/Users/chipchop/anaconda3/lib/python3.7/site-packages/ipykernel_launcher.py:6: FutureWarning: specifying 'categories' or 'ordered' in .astype() is deprecated; pass a CategoricalDtype instead\n",
      "  \n",
      "/Users/chipchop/anaconda3/lib/python3.7/site-packages/ipykernel_launcher.py:7: FutureWarning: specifying 'categories' or 'ordered' in .astype() is deprecated; pass a CategoricalDtype instead\n",
      "  import sys\n"
     ]
    }
   ],
   "source": [
    "sm_user_10_phoenix_rest = get_sparse_matrix(user_min_10_phoenix_res)\n",
    "print(\"Shape of ratings matrix for Restaurants in Phoenix =\",sm_user_10_phoenix_rest.shape)\n",
    "sm_user_10_toronto_rest = get_sparse_matrix(user_min_10_toronto_res)\n",
    "print(\"Shape of ratings matrix for Restaurants in Toronto =\",sm_user_10_toronto_rest.shape)"
   ]
  },
  {
   "cell_type": "code",
   "execution_count": 29,
   "metadata": {},
   "outputs": [
    {
     "name": "stdout",
     "output_type": "stream",
     "text": [
      "Sparsity of ratings matrix for Restaurants in Phoenix =  0.9925055199185419\n",
      "Sparsity of ratings matrix for Restaurants in Toronto =  0.9951912382030829\n"
     ]
    }
   ],
   "source": [
    "sparsity_phoenix = 1 - sm_user_10_phoenix_rest.nnz/(sm_user_10_phoenix_rest.shape[0]*sm_user_10_phoenix_rest.shape[1])\n",
    "sparsity_toronto = 1 - sm_user_10_toronto_rest.nnz/(sm_user_10_toronto_rest.shape[0]*sm_user_10_toronto_rest.shape[1])\n",
    "print(\"Sparsity of ratings matrix for Restaurants in Phoenix = \", sparsity_phoenix)\n",
    "print(\"Sparsity of ratings matrix for Restaurants in Toronto = \", sparsity_toronto)"
   ]
  },
  {
   "cell_type": "code",
   "execution_count": 30,
   "metadata": {},
   "outputs": [],
   "source": [
    "def train_val_test_split(sparse_matrix, num_review_val = 2, num_review_test = 2):\n",
    "    '''Split the rating matrix into train ,val, and test marix that are disjoint matrices'''\n",
    "    nzrows, nzcols =  sparse_matrix.nonzero()\n",
    "    sparse_matrix_test = csr_matrix(sparse_matrix.shape)\n",
    "    sparse_matrix_val = csr_matrix(sparse_matrix.shape)\n",
    "    sparse_matrix_train = sparse_matrix.copy()\n",
    "    n_users = sparse_matrix.shape[0]\n",
    "    for u in range(n_users):\n",
    "        idx = nzcols[np.where(nzrows == u)]\n",
    "        np.random.shuffle(idx)\n",
    "        test_idx = idx[-num_review_test:]\n",
    "        val_idx = idx[-(num_review_val+num_review_test):-num_review_test]\n",
    "        train_idx = idx[:-(num_review_val+num_review_test)]\n",
    "        sparse_matrix_test[u,test_idx] = sparse_matrix[u,test_idx]\n",
    "        sparse_matrix_val[u,val_idx] = sparse_matrix[u,val_idx]\n",
    "        sparse_matrix_train[u,test_idx] = 0\n",
    "        sparse_matrix_train[u,val_idx] = 0\n",
    "    data = np.array(sparse_matrix_train[sparse_matrix_train.nonzero()])[0]\n",
    "    row = sparse_matrix_train.nonzero()[0]\n",
    "    col = sparse_matrix_train.nonzero()[1]\n",
    "    size = sparse_matrix_train.shape\n",
    "    sparse_matrix_train = csr_matrix((data,(row,col)),shape = size)\n",
    "    mult = sparse_matrix_train.multiply(sparse_matrix_val)\n",
    "    mmult = mult.multiply(sparse_matrix_test)\n",
    "    assert(mmult.nnz == 0)\n",
    "    return sparse_matrix_train, sparse_matrix_val, sparse_matrix_test"
   ]
  },
  {
   "cell_type": "code",
   "execution_count": 31,
   "metadata": {
    "scrolled": true
   },
   "outputs": [
    {
     "name": "stderr",
     "output_type": "stream",
     "text": [
      "/Users/chipchop/anaconda3/lib/python3.7/site-packages/scipy/sparse/compressed.py:746: SparseEfficiencyWarning: Changing the sparsity structure of a csr_matrix is expensive. lil_matrix is more efficient.\n",
      "  SparseEfficiencyWarning)\n"
     ]
    }
   ],
   "source": [
    "sm_u_10_phx_res_train, sm_u_10_phx_res_val, sm_u_10_phx_res_test = train_val_test_split(sm_user_10_phoenix_rest)\n",
    "sm_u_10_trt_res_train, sm_u_10_trt_res_val, sm_u_10_trt_res_test =  train_val_test_split(sm_user_10_toronto_rest)"
   ]
  },
  {
   "cell_type": "code",
   "execution_count": 32,
   "metadata": {},
   "outputs": [
    {
     "name": "stdout",
     "output_type": "stream",
     "text": [
      "72294 7658 7658\n",
      "97989 8420 8420\n"
     ]
    }
   ],
   "source": [
    "print(sm_u_10_phx_res_train.nnz, sm_u_10_phx_res_val.nnz, sm_u_10_phx_res_test.nnz)\n",
    "print(sm_u_10_trt_res_train.nnz, sm_u_10_trt_res_val.nnz, sm_u_10_trt_res_test.nnz)"
   ]
  },
  {
   "cell_type": "code",
   "execution_count": 33,
   "metadata": {},
   "outputs": [],
   "source": [
    "u_20_train, u_20_val, u_20_test = train_val_test_split(u_20_phx, num_review_val= 7, num_review_test= 3)"
   ]
  },
  {
   "cell_type": "markdown",
   "metadata": {},
   "source": [
    "# 3. Model Building:"
   ]
  },
  {
   "cell_type": "markdown",
   "metadata": {},
   "source": [
    "## 3.1 SVD"
   ]
  },
  {
   "cell_type": "markdown",
   "metadata": {},
   "source": [
    "## For Restaurants in Phoenix"
   ]
  },
  {
   "cell_type": "code",
   "execution_count": 34,
   "metadata": {},
   "outputs": [],
   "source": [
    "U_phx_res, S_phx_res, Vt_phx_res = np.linalg.svd(sm_u_10_phx_res_train.todense())#k = min(sm_u_10_phx_res_train.shape)-1)"
   ]
  },
  {
   "cell_type": "code",
   "execution_count": 35,
   "metadata": {},
   "outputs": [
    {
     "name": "stdout",
     "output_type": "stream",
     "text": [
      "smallest singular value =  7.667544877985627e-15\n",
      "largest singular value =  257.06177434488467\n"
     ]
    }
   ],
   "source": [
    "print(\"smallest singular value = \",min(S_phx_res))\n",
    "print(\"largest singular value = \",max(S_phx_res))\n",
    "S_phx_res_dia = np.diag(S_phx_res)"
   ]
  },
  {
   "cell_type": "markdown",
   "metadata": {},
   "source": [
    "** Printing top 20 singular values**"
   ]
  },
  {
   "cell_type": "code",
   "execution_count": 36,
   "metadata": {},
   "outputs": [
    {
     "data": {
      "image/png": "[encoded data removed]",
      "text/plain": [
       "<Figure size 576x360 with 1 Axes>"
      ]
     },
     "metadata": {
      "needs_background": "light"
     },
     "output_type": "display_data"
    }
   ],
   "source": [
    "fig = plt.figure(figsize=(8,5))\n",
    "plt.plot(S_phx_res[:20], '-', linewidth=1)\n",
    "plt.title('Elbow Plot')\n",
    "# plt.xticks(np.arange(0, S_phx_res.shape[0]+1, 50), rotation='vertical')\n",
    "plt.xlabel('Principal Component')\n",
    "plt.ylabel('Singular Values')\n",
    "plt.show()"
   ]
  },
  {
   "cell_type": "markdown",
   "metadata": {},
   "source": [
    "## For Restaurants in Toronto"
   ]
  },
  {
   "cell_type": "code",
   "execution_count": 37,
   "metadata": {},
   "outputs": [],
   "source": [
    "U_trt_res, S_trt_res, Vt_trt_res = np.linalg.svd(sm_u_10_trt_res_train.todense())#k = min(sm_u_10_phx_res_train.shape)-1)"
   ]
  },
  {
   "cell_type": "code",
   "execution_count": 38,
   "metadata": {},
   "outputs": [
    {
     "name": "stdout",
     "output_type": "stream",
     "text": [
      "smallest singular value =  0.2926226509047773\n",
      "largest singular value =  225.1560371693534\n"
     ]
    }
   ],
   "source": [
    "print(\"smallest singular value = \",min(S_trt_res))\n",
    "print(\"largest singular value = \",max(S_trt_res))\n",
    "S_trt_res_dia = np.diag(S_trt_res)"
   ]
  },
  {
   "cell_type": "markdown",
   "metadata": {},
   "source": [
    "** Printing top 20 singular values**"
   ]
  },
  {
   "cell_type": "code",
   "execution_count": 39,
   "metadata": {},
   "outputs": [
    {
     "data": {
      "image/png": "[encoded data removed]",
      "text/plain": [
       "<Figure size 576x360 with 1 Axes>"
      ]
     },
     "metadata": {
      "needs_background": "light"
     },
     "output_type": "display_data"
    }
   ],
   "source": [
    "fig = plt.figure(figsize=(8,5))\n",
    "plt.plot(S_trt_res[:20], '-', linewidth=1)\n",
    "plt.title('Elbow Plot')\n",
    "# plt.xticks(np.arange(0, S_phx_res.shape[0]+1, 50), rotation='vertical')\n",
    "plt.xlabel('Principal Component')\n",
    "plt.ylabel('Singular Values')\n",
    "plt.show()"
   ]
  },
  {
   "cell_type": "code",
   "execution_count": 40,
   "metadata": {},
   "outputs": [],
   "source": [
    "def approx_err(k, A, U, S, Vt):\n",
    "    rec_A = np.dot(U[:, :k], np.dot(S[:k,:k], Vt[:k, :]))\n",
    "    idx = np.where(A>0);\n",
    "    diff = A[idx] - rec_A[idx]\n",
    "    return np.linalg.norm(diff)**2/diff.shape[1]"
   ]
  },
  {
   "cell_type": "markdown",
   "metadata": {},
   "source": [
    "## For Restaurants in Phoenix"
   ]
  },
  {
   "cell_type": "code",
   "execution_count": 41,
   "metadata": {},
   "outputs": [
    {
     "data": {
      "text/plain": [
       "<matplotlib.legend.Legend at 0x1a21cb3dd8>"
      ]
     },
     "execution_count": 41,
     "metadata": {},
     "output_type": "execute_result"
    },
    {
     "data": {
      "image/png": "[encoded data removed]",
      "text/plain": [
       "<Figure size 432x288 with 1 Axes>"
      ]
     },
     "metadata": {
      "needs_background": "light"
     },
     "output_type": "display_data"
    }
   ],
   "source": [
    "k = np.linspace(2,40,20, dtype = int)\n",
    "errors_svd_val = {}\n",
    "errors_svd_train = {}\n",
    "for i in k:\n",
    "    errors_svd_val[i] = approx_err(i, sm_u_10_phx_res_val.todense(), U_phx_res, S_phx_res_dia, Vt_phx_res)\n",
    "    errors_svd_train[i] = approx_err(i, sm_u_10_phx_res_train.todense(), U_phx_res, S_phx_res_dia, Vt_phx_res)\n",
    "\n",
    "plt.plot(errors_svd_val.keys(),errors_svd_val.values(), label = 'Validation')\n",
    "plt.plot(errors_svd_train.keys(),errors_svd_train.values(), label = 'Train')\n",
    "plt.xlabel('k')\n",
    "plt.ylabel('MSE')\n",
    "plt.legend()"
   ]
  },
  {
   "cell_type": "code",
   "execution_count": 42,
   "metadata": {},
   "outputs": [
    {
     "data": {
      "text/plain": [
       "<matplotlib.legend.Legend at 0x1a205a0ba8>"
      ]
     },
     "execution_count": 42,
     "metadata": {},
     "output_type": "execute_result"
    },
    {
     "data": {
      "image/png": "[encoded data removed]",
      "text/plain": [
       "<Figure size 432x288 with 1 Axes>"
      ]
     },
     "metadata": {
      "needs_background": "light"
     },
     "output_type": "display_data"
    }
   ],
   "source": [
    "##Separately plotting the Validation error\n",
    "plt.plot(errors_svd_val.keys(),errors_svd_val.values(), label = 'Validation')\n",
    "plt.xlabel('k')\n",
    "plt.ylabel('MSE')\n",
    "plt.legend()\n",
    "plt.legend()"
   ]
  },
  {
   "cell_type": "code",
   "execution_count": 43,
   "metadata": {
    "scrolled": true
   },
   "outputs": [
    {
     "data": {
      "text/plain": [
       "Text(0, 0.5, 'Principal Component 2')"
      ]
     },
     "execution_count": 43,
     "metadata": {},
     "output_type": "execute_result"
    },
    {
     "data": {
      "image/png": "[encoded data removed]",
      "text/plain": [
       "<Figure size 432x288 with 1 Axes>"
      ]
     },
     "metadata": {
      "needs_background": "light"
     },
     "output_type": "display_data"
    }
   ],
   "source": [
    "plt.scatter(np.ravel(U_phx_res[:,0]),np.ravel(U_phx_res[:,1]), label = 'Scatter plot for first two PCs')\n",
    "plt.xlabel('Principal Component 1')\n",
    "plt.ylabel('Principal Component 2')"
   ]
  },
  {
   "cell_type": "markdown",
   "metadata": {},
   "source": [
    "Best Validation MSE for SVD"
   ]
  },
  {
   "cell_type": "code",
   "execution_count": 44,
   "metadata": {},
   "outputs": [
    {
     "name": "stdout",
     "output_type": "stream",
     "text": [
      "Best Validation MSE for SVD for Restaurants in Phoenix=  14.540656534267217\n"
     ]
    }
   ],
   "source": [
    "Best_Val_MSE_SVD_Phx = approx_err(10, sm_u_10_phx_res_val.todense(), U_phx_res, S_phx_res_dia, Vt_phx_res)\n",
    "print('Best Validation MSE for SVD for Restaurants in Phoenix= ', Best_Val_MSE_SVD_Phx)"
   ]
  },
  {
   "cell_type": "markdown",
   "metadata": {},
   "source": [
    "Non Zero Indices in Train, Val and Test"
   ]
  },
  {
   "cell_type": "code",
   "execution_count": 45,
   "metadata": {},
   "outputs": [],
   "source": [
    "train_phx_nnz = sm_u_10_phx_res_train.nonzero()\n",
    "val_phx_nnz = sm_u_10_phx_res_val.nonzero()\n",
    "test_phx_nnz = sm_u_10_phx_res_test.nonzero()"
   ]
  },
  {
   "cell_type": "code",
   "execution_count": 46,
   "metadata": {},
   "outputs": [],
   "source": [
    "recon_matrix_svd_phx = np.dot(U_phx_res[:, :10], np.dot(S_phx_res_dia[:10,:10], Vt_phx_res[:10, :]))\n",
    "train_preds_svd_phx = np.ravel(recon_matrix_svd_phx[train_phx_nnz])\n",
    "val_preds_svd_phx = np.ravel(recon_matrix_svd_phx[val_phx_nnz])\n",
    "test_preds_svd_phx = np.ravel(recon_matrix_svd_phx[test_phx_nnz])"
   ]
  },
  {
   "cell_type": "markdown",
   "metadata": {},
   "source": [
    "## For Restaurants in Toronto"
   ]
  },
  {
   "cell_type": "code",
   "execution_count": 47,
   "metadata": {},
   "outputs": [
    {
     "data": {
      "text/plain": [
       "<matplotlib.legend.Legend at 0x1a2023e780>"
      ]
     },
     "execution_count": 47,
     "metadata": {},
     "output_type": "execute_result"
    },
    {
     "data": {
      "image/png": "[encoded data removed]",
      "text/plain": [
       "<Figure size 432x288 with 1 Axes>"
      ]
     },
     "metadata": {
      "needs_background": "light"
     },
     "output_type": "display_data"
    }
   ],
   "source": [
    "k = np.linspace(2,40,20, dtype = int)\n",
    "errors_svd_val_trt = {}\n",
    "errors_svd_train_trt = {}\n",
    "for i in k:\n",
    "    errors_svd_val_trt[i] = approx_err(i, sm_u_10_trt_res_val.todense(), U_trt_res, S_trt_res_dia, Vt_trt_res)\n",
    "    errors_svd_train_trt[i] = approx_err(i, sm_u_10_trt_res_train.todense(), U_trt_res, S_trt_res_dia, Vt_trt_res)\n",
    "\n",
    "plt.plot(errors_svd_val_trt.keys(),errors_svd_val_trt.values(), label = 'Validation')\n",
    "plt.plot(errors_svd_train_trt.keys(),errors_svd_train_trt.values(), label = 'Train')\n",
    "plt.legend()"
   ]
  },
  {
   "cell_type": "code",
   "execution_count": 48,
   "metadata": {},
   "outputs": [
    {
     "data": {
      "text/plain": [
       "[<matplotlib.lines.Line2D at 0x1a2187db38>]"
      ]
     },
     "execution_count": 48,
     "metadata": {},
     "output_type": "execute_result"
    },
    {
     "data": {
      "image/png": "[encoded data removed]",
      "text/plain": [
       "<Figure size 432x288 with 1 Axes>"
      ]
     },
     "metadata": {
      "needs_background": "light"
     },
     "output_type": "display_data"
    }
   ],
   "source": [
    "##Separately plotting the Validation error\n",
    "plt.plot(errors_svd_val_trt.keys(),errors_svd_val_trt.values(), label = 'Validation')"
   ]
  },
  {
   "cell_type": "markdown",
   "metadata": {},
   "source": [
    "Best Validation MSE for SVD"
   ]
  },
  {
   "cell_type": "code",
   "execution_count": 49,
   "metadata": {},
   "outputs": [
    {
     "name": "stdout",
     "output_type": "stream",
     "text": [
      "Best Validation MSE for SVD for Restaurants in Toronto=  13.65859092548982\n"
     ]
    }
   ],
   "source": [
    "Best_Val_MSE_SVD_trt = approx_err(16, sm_u_10_trt_res_val.todense(), U_trt_res, S_trt_res_dia, Vt_trt_res)\n",
    "print('Best Validation MSE for SVD for Restaurants in Toronto= ', Best_Val_MSE_SVD_trt)"
   ]
  },
  {
   "cell_type": "code",
   "execution_count": 50,
   "metadata": {},
   "outputs": [],
   "source": [
    "train_trt_nnz = sm_u_10_trt_res_train.nonzero()\n",
    "val_trt_nnz = sm_u_10_trt_res_val.nonzero()\n",
    "test_trt_nnz = sm_u_10_trt_res_test.nonzero()"
   ]
  },
  {
   "cell_type": "code",
   "execution_count": 51,
   "metadata": {},
   "outputs": [],
   "source": [
    "recon_matrix_svd_trt = np.dot(U_trt_res[:, :15], np.dot(S_trt_res_dia[:15,:15], Vt_trt_res[:15, :]))\n",
    "train_preds_svd_trt = np.ravel(recon_matrix_svd_trt[train_trt_nnz])\n",
    "val_preds_svd_trt = np.ravel(recon_matrix_svd_trt[val_trt_nnz])\n",
    "test_preds_svd_trt = np.ravel(recon_matrix_svd_trt[test_trt_nnz])"
   ]
  },
  {
   "cell_type": "markdown",
   "metadata": {},
   "source": [
    "## SVD with Bias Correction"
   ]
  },
  {
   "cell_type": "code",
   "execution_count": 52,
   "metadata": {},
   "outputs": [
    {
     "name": "stdout",
     "output_type": "stream",
     "text": [
      "smallest singular value =  1.5319626319224976e-13\n",
      "largest singular value =  12777.533528494843\n"
     ]
    }
   ],
   "source": [
    "global_bias = np.sum(sm_u_10_phx_res_train)/sm_u_10_phx_res_train.nnz\n",
    "sm_u_10_phx_res_train_wo_bias = sm_u_10_phx_res_train.todense() - global_bias\n",
    "U_phx_res_wo_bias, S_phx_res_wo_bias, Vt_phx_res_wo_bias = np.linalg.svd(sm_u_10_phx_res_train_wo_bias)\n",
    "print(\"smallest singular value = \",min(S_phx_res_wo_bias))\n",
    "print(\"largest singular value = \",max(S_phx_res_wo_bias))\n",
    "S_phx_res_dia_wo_bias = np.diag(S_phx_res_wo_bias)"
   ]
  },
  {
   "cell_type": "code",
   "execution_count": 53,
   "metadata": {},
   "outputs": [
    {
     "data": {
      "image/png": "[encoded data removed]",
      "text/plain": [
       "<Figure size 576x360 with 1 Axes>"
      ]
     },
     "metadata": {
      "needs_background": "light"
     },
     "output_type": "display_data"
    }
   ],
   "source": [
    "fig = plt.figure(figsize=(8,5))\n",
    "plt.semilogy(S_phx_res_wo_bias[:1000], '-', linewidth=1)\n",
    "plt.title('Elbow Plot')\n",
    "plt.xlabel('Principal Component')\n",
    "plt.ylabel('Singular Values')\n",
    "plt.show()"
   ]
  },
  {
   "cell_type": "code",
   "execution_count": 54,
   "metadata": {},
   "outputs": [
    {
     "data": {
      "text/plain": [
       "[<matplotlib.lines.Line2D at 0x1a2198ffd0>]"
      ]
     },
     "execution_count": 54,
     "metadata": {},
     "output_type": "execute_result"
    },
    {
     "data": {
      "image/png": "[encoded data removed]",
      "text/plain": [
       "<Figure size 432x288 with 1 Axes>"
      ]
     },
     "metadata": {
      "needs_background": "light"
     },
     "output_type": "display_data"
    }
   ],
   "source": [
    "k_wo_bias = np.arange(1,20)\n",
    "errors_svd_wo_bias = {}\n",
    "sm_u_10_phx_res_val_wo_bias = sm_u_10_phx_res_val.todense() - global_bias \n",
    "\n",
    "for i in k_wo_bias:\n",
    "    sm_u_10_phx_res_val_wo_bias_rec = np.dot(U_phx_res_wo_bias[:, :i], np.dot(S_phx_res_dia_wo_bias[:i,:i], Vt_phx_res_wo_bias[:i, :]))\n",
    "    idx_wo_bias = np.where(sm_u_10_phx_res_val.todense()>0);\n",
    "    diff_wo_bias = sm_u_10_phx_res_val_wo_bias[idx_wo_bias] - sm_u_10_phx_res_val_wo_bias_rec[idx_wo_bias]\n",
    "    errors_svd_wo_bias[i] = np.linalg.norm(diff_wo_bias)**2/diff_wo_bias.shape[1]\n",
    "plt.plot(errors_svd_wo_bias.keys(),errors_svd_wo_bias.values())"
   ]
  },
  {
   "cell_type": "code",
   "execution_count": 55,
   "metadata": {},
   "outputs": [],
   "source": [
    "def find_global_user_res_bias(ratings_matrix):\n",
    "    dense_matrix = ratings_matrix.todense()\n",
    "    mask_matrix = (dense_matrix>0).astype(int)\n",
    "    user_bias = np.sum(dense_matrix, axis = 1)/np.sum(mask_matrix, axis = 1)\n",
    "    res_bias =  np.sum(dense_matrix, axis = 0)/np.sum(mask_matrix, axis = 0)\n",
    "    user_bias = np.nan_to_num(user_bias)\n",
    "    res_bias = np.nan_to_num(res_bias)\n",
    "    user_bias = user_bias.reshape(-1,1)\n",
    "    res_bias = res_bias.reshape(1,-1)\n",
    "    ratings_matrix_wo_bias = dense_matrix - np.tile(user_bias, (1,dense_matrix.shape[1]))- np.tile(res_bias, (dense_matrix.shape[0], 1))\n",
    "    return user_bias, res_bias, ratings_matrix_wo_bias"
   ]
  },
  {
   "cell_type": "markdown",
   "metadata": {},
   "source": [
    "## For Restaurants in Phoenix"
   ]
  },
  {
   "cell_type": "code",
   "execution_count": 56,
   "metadata": {
    "scrolled": true
   },
   "outputs": [
    {
     "name": "stderr",
     "output_type": "stream",
     "text": [
      "/Users/chipchop/anaconda3/lib/python3.7/site-packages/ipykernel_launcher.py:5: RuntimeWarning: invalid value encountered in true_divide\n",
      "  \"\"\"\n"
     ]
    }
   ],
   "source": [
    "user_bias_ur, res_bias_ur, train_ur = find_global_user_res_bias(sm_u_10_phx_res_train)"
   ]
  },
  {
   "cell_type": "code",
   "execution_count": 57,
   "metadata": {},
   "outputs": [
    {
     "name": "stdout",
     "output_type": "stream",
     "text": [
      "smallest singular value =  3.00180291558393e-13\n",
      "largest singular value =  24874.580553120926\n"
     ]
    }
   ],
   "source": [
    "U_phx_res_wo_bias_ur, S_phx_res_wo_bias_ur, Vt_phx_res_wo_bias_ur = np.linalg.svd(train_ur)\n",
    "print(\"smallest singular value = \",min(S_phx_res_wo_bias_ur))\n",
    "print(\"largest singular value = \",max(S_phx_res_wo_bias_ur))\n",
    "S_phx_res_dia_wo_bias_ur = np.diag(S_phx_res_wo_bias_ur)"
   ]
  },
  {
   "cell_type": "code",
   "execution_count": 58,
   "metadata": {},
   "outputs": [
    {
     "data": {
      "image/png": "[encoded data removed]",
      "text/plain": [
       "<Figure size 576x360 with 1 Axes>"
      ]
     },
     "metadata": {
      "needs_background": "light"
     },
     "output_type": "display_data"
    }
   ],
   "source": [
    "fig = plt.figure(figsize=(8,5))\n",
    "plt.plot(S_phx_res_wo_bias_ur[:20], '-', linewidth=1)\n",
    "plt.title('Elbow Plot')\n",
    "plt.xlabel('Principal Component')\n",
    "plt.ylabel('Singular Values')\n",
    "plt.show()"
   ]
  },
  {
   "cell_type": "code",
   "execution_count": 59,
   "metadata": {},
   "outputs": [
    {
     "data": {
      "text/plain": [
       "<matplotlib.legend.Legend at 0x1a20f8a198>"
      ]
     },
     "execution_count": 59,
     "metadata": {},
     "output_type": "execute_result"
    },
    {
     "data": {
      "image/png": "[encoded data removed]",
      "text/plain": [
       "<Figure size 432x288 with 1 Axes>"
      ]
     },
     "metadata": {
      "needs_background": "light"
     },
     "output_type": "display_data"
    }
   ],
   "source": [
    "k_wo_bias_ur = np.linspace(2,40,20, dtype = int)\n",
    "errors_svd_wo_bias_ur = {}\n",
    "sm_u_10_phx_res_val_wo_bias_ur = sm_u_10_phx_res_val.todense() - user_bias_ur - res_bias_ur\n",
    "\n",
    "for i in k_wo_bias_ur:\n",
    "    sm_u_10_phx_res_val_wo_bias_ur_rec = np.dot(U_phx_res_wo_bias_ur[:, :i], np.dot(S_phx_res_dia_wo_bias_ur[:i,:i], Vt_phx_res_wo_bias_ur[:i, :]))\n",
    "    idx_wo_bias_ur = np.where(sm_u_10_phx_res_val.todense()>0);\n",
    "    diff_wo_bias_ur = sm_u_10_phx_res_val_wo_bias_ur[idx_wo_bias_ur] - sm_u_10_phx_res_val_wo_bias_ur_rec[idx_wo_bias_ur]\n",
    "    errors_svd_wo_bias_ur[i] = np.linalg.norm(diff_wo_bias_ur)**2/diff_wo_bias_ur.shape[1]\n",
    "plt.plot(errors_svd_wo_bias_ur.keys(),errors_svd_wo_bias_ur.values(), label= 'Validation')\n",
    "plt.xlabel('PC')\n",
    "plt.ylabel('MSE')\n",
    "plt.legend()"
   ]
  },
  {
   "cell_type": "markdown",
   "metadata": {},
   "source": [
    "## For Restaurants in Toronto"
   ]
  },
  {
   "cell_type": "code",
   "execution_count": 60,
   "metadata": {},
   "outputs": [
    {
     "name": "stderr",
     "output_type": "stream",
     "text": [
      "/Users/chipchop/anaconda3/lib/python3.7/site-packages/ipykernel_launcher.py:5: RuntimeWarning: invalid value encountered in true_divide\n",
      "  \"\"\"\n"
     ]
    }
   ],
   "source": [
    "user_bias_ur_trt, res_bias_ur_trt, train_ur_trt = find_global_user_res_bias(sm_u_10_trt_res_train)"
   ]
  },
  {
   "cell_type": "code",
   "execution_count": 61,
   "metadata": {},
   "outputs": [
    {
     "name": "stdout",
     "output_type": "stream",
     "text": [
      "smallest singular value =  0.2947109566350605\n",
      "largest singular value =  34277.73854646086\n"
     ]
    }
   ],
   "source": [
    "U_trt_res_wo_bias_ur, S_trt_res_wo_bias_ur, Vt_trt_res_wo_bias_ur = np.linalg.svd(train_ur_trt)\n",
    "print(\"smallest singular value = \",min(S_trt_res_wo_bias_ur))\n",
    "print(\"largest singular value = \",max(S_trt_res_wo_bias_ur))\n",
    "S_trt_res_dia_wo_bias_ur = np.diag(S_trt_res_wo_bias_ur)"
   ]
  },
  {
   "cell_type": "code",
   "execution_count": 62,
   "metadata": {},
   "outputs": [
    {
     "data": {
      "text/plain": [
       "<matplotlib.legend.Legend at 0x1a20b6be80>"
      ]
     },
     "execution_count": 62,
     "metadata": {},
     "output_type": "execute_result"
    },
    {
     "data": {
      "image/png": "[encoded data removed]",
      "text/plain": [
       "<Figure size 432x288 with 1 Axes>"
      ]
     },
     "metadata": {
      "needs_background": "light"
     },
     "output_type": "display_data"
    }
   ],
   "source": [
    "k_wo_bias_ur = np.linspace(2,40,20, dtype = int)\n",
    "errors_svd_wo_bias_ur_trt = {}\n",
    "sm_u_10_trt_res_val_wo_bias_ur = sm_u_10_trt_res_val.todense() - user_bias_ur_trt - res_bias_ur_trt\n",
    "\n",
    "for i in k_wo_bias_ur:\n",
    "    sm_u_10_trt_res_val_wo_bias_ur_rec = np.dot(U_trt_res_wo_bias_ur[:, :i], np.dot(S_trt_res_dia_wo_bias_ur[:i,:i], Vt_trt_res_wo_bias_ur[:i, :]))\n",
    "    idx_wo_bias_ur_trt = np.where(sm_u_10_trt_res_val.todense()>0);\n",
    "    diff_wo_bias_ur_trt = sm_u_10_trt_res_val_wo_bias_ur[idx_wo_bias_ur_trt] - sm_u_10_trt_res_val_wo_bias_ur_rec[idx_wo_bias_ur_trt]\n",
    "    errors_svd_wo_bias_ur_trt[i] = np.linalg.norm(diff_wo_bias_ur_trt)**2/diff_wo_bias_ur_trt.shape[1]\n",
    "plt.plot(errors_svd_wo_bias_ur_trt.keys(),errors_svd_wo_bias_ur_trt.values(), label = 'Validation')\n",
    "plt.xlabel('PC')\n",
    "plt.ylabel('MSE')\n",
    "plt.legend()"
   ]
  },
  {
   "cell_type": "markdown",
   "metadata": {},
   "source": [
    "# 3.2 Cosine Similarity with correction for bias"
   ]
  },
  {
   "cell_type": "code",
   "execution_count": 63,
   "metadata": {},
   "outputs": [],
   "source": [
    "def similarity_matrix(train_matrix, between = 'users'):\n",
    "    '''Returns the cosine similarity between users or restaurants'''\n",
    "    if between == 'users':\n",
    "        similarity = train_matrix*train_matrix.transpose()\n",
    "    else:\n",
    "        similarity = train_matrix.transpose()*train_matrix\n",
    "    similarity_dense = similarity.todense() + 1e-8\n",
    "    norm_array = np.sqrt(np.diag(similarity_dense))\n",
    "    return similarity_dense/norm_array/norm_array.reshape(-1,1)"
   ]
  },
  {
   "cell_type": "code",
   "execution_count": 64,
   "metadata": {},
   "outputs": [],
   "source": [
    "def predict_topk_nobias(ratings, similarity, kind='user', k=40):\n",
    "    pred = np.zeros(ratings.shape)\n",
    "    if kind == 'user':\n",
    "        user_bias = np.mean(ratings, axis =1)\n",
    "        ratings = (ratings - np.tile(user_bias, (ratings.shape[1],1)).T).copy()\n",
    "        for i in range(ratings.shape[0]):\n",
    "            top_k_users = np.argsort(similarity[:,i])[:-k-1:-1]\n",
    "            pred[i] = np.dot(similarity[i,top_k_users],ratings[top_k_users,:])/np.sum(np.abs(similarity[i,top_k_users]))\n",
    "        pred += np.tile(user_bias,(ratings.shape[1],1)).T\n",
    "    else:\n",
    "        item_bias = np.mean(ratings, axis=0)\n",
    "        ratings = (ratings - np.tile(item_bias,(ratings.shape[0],1))).copy()\n",
    "        for j in range(ratings.shape[1]):\n",
    "            top_k_items = np.argsort(similarity[:,j])[:-k-1:-1]\n",
    "            pred[:,j] = np.dot(similarity[top_k_items,j].T,ratings[:,top_k_items].T)/np.sum(np.abs(similarity[top_k_items,j]))\n",
    "        pred += np.tile(item_bias,(ratings.shape[0],1))\n",
    "        \n",
    "    return pred"
   ]
  },
  {
   "cell_type": "code",
   "execution_count": 65,
   "metadata": {},
   "outputs": [],
   "source": [
    "def get_mse(pred, actual):\n",
    "    # Ignore zero terms.\n",
    "    pred = pred[actual.nonzero()].flatten()\n",
    "    actual = actual[actual.nonzero()].flatten()\n",
    "    return mean_squared_error(pred, actual)"
   ]
  },
  {
   "cell_type": "code",
   "execution_count": 66,
   "metadata": {
    "scrolled": true
   },
   "outputs": [
    {
     "name": "stdout",
     "output_type": "stream",
     "text": [
      "MSE for cosine Similarity between Restaurants = 15.822146774614781\n"
     ]
    }
   ],
   "source": [
    "simi_phx_res = similarity_matrix(sm_u_10_phx_res_train, between='res')\n",
    "simi_phx_res = np.array(simi_phx_res)\n",
    "preds_cosine_phx = predict_topk_nobias(np.array(sm_u_10_phx_res_train.todense()),simi_phx_res,kind='res', k=1)\n",
    "MSE_cosine_res = get_mse(preds_cosine_phx, np.array(sm_u_10_phx_res_val.todense()))\n",
    "print(\"MSE for cosine Similarity between Restaurants =\",MSE_cosine_res)"
   ]
  },
  {
   "cell_type": "code",
   "execution_count": 67,
   "metadata": {
    "scrolled": true
   },
   "outputs": [
    {
     "name": "stdout",
     "output_type": "stream",
     "text": [
      "MSE for cosine Similarity between Users = 15.822146774614781\n"
     ]
    }
   ],
   "source": [
    "simi_phx_users = similarity_matrix(sm_u_10_phx_res_train, between='users')\n",
    "simi_phx_users = np.array(simi_phx_users)\n",
    "preds_cosine_phx_users = predict_topk_nobias(np.array(sm_u_10_phx_res_train.todense()),simi_phx_users,kind='user', k=1)\n",
    "MSE_cosine_users = get_mse(preds_cosine_phx_users, np.array(sm_u_10_phx_res_val.todense()))\n",
    "print(\"MSE for cosine Similarity between Users =\",MSE_cosine_users)"
   ]
  },
  {
   "cell_type": "markdown",
   "metadata": {},
   "source": [
    "## For Restaurants in Phoenix"
   ]
  },
  {
   "cell_type": "code",
   "execution_count": 68,
   "metadata": {
    "scrolled": true
   },
   "outputs": [
    {
     "data": {
      "text/plain": [
       "<matplotlib.legend.Legend at 0x1a21ba5668>"
      ]
     },
     "execution_count": 68,
     "metadata": {},
     "output_type": "execute_result"
    },
    {
     "data": {
      "image/png": "[encoded data removed]",
      "text/plain": [
       "<Figure size 432x288 with 1 Axes>"
      ]
     },
     "metadata": {
      "needs_background": "light"
     },
     "output_type": "display_data"
    }
   ],
   "source": [
    "errors_cs_res_phx_val = {}\n",
    "errors_cs_res_phx_train = {}\n",
    "k_cs = np.arange(1, 40)\n",
    "for i in k_cs:\n",
    "    preds_cs_res_phx = predict_topk_nobias(np.array(sm_u_10_phx_res_train.todense()),simi_phx_res,kind='res', k=i)\n",
    "    error_cs_val = get_mse(preds_cs_res_phx, np.array(sm_u_10_phx_res_val.todense()))\n",
    "    error_cs_train = get_mse(preds_cs_res_phx, np.array(sm_u_10_phx_res_train.todense()))\n",
    "    errors_cs_res_phx_val[i] = error_cs_val\n",
    "    errors_cs_res_phx_train[i] = error_cs_train\n",
    "plt.plot(errors_cs_res_phx_val.keys(),errors_cs_res_phx_val.values(), label = 'Validation')\n",
    "plt.plot(errors_cs_res_phx_train.keys(),errors_cs_res_phx_train.values(), label = 'Train')\n",
    "plt.xlabel('K Neighbors')\n",
    "plt.ylabel('MSE')\n",
    "plt.title('Cosine Similarity: MSE (train/Val) vs K')\n",
    "plt.legend()"
   ]
  },
  {
   "cell_type": "code",
   "execution_count": 69,
   "metadata": {},
   "outputs": [
    {
     "name": "stdout",
     "output_type": "stream",
     "text": [
      "Best Validation MSE for Cosine Similarity for Restaurants in Phoenix=  14.707714987381753\n"
     ]
    }
   ],
   "source": [
    "preds_cosine_phx = predict_topk_nobias(np.array(sm_u_10_phx_res_train.todense()),simi_phx_res,kind='res', k=40)\n",
    "Best_Val_MSE_Cosine_phx = get_mse(preds_cosine_phx, np.array(sm_u_10_phx_res_val.todense()))\n",
    "print('Best Validation MSE for Cosine Similarity for Restaurants in Phoenix= ', Best_Val_MSE_Cosine_phx)"
   ]
  },
  {
   "cell_type": "code",
   "execution_count": 70,
   "metadata": {},
   "outputs": [],
   "source": [
    "train_preds_cosine_phx = preds_cosine_phx[train_phx_nnz]\n",
    "val_preds_cosine_phx = preds_cosine_phx[val_phx_nnz]\n",
    "test_preds_cosine_phx = preds_cosine_phx[test_phx_nnz]"
   ]
  },
  {
   "cell_type": "markdown",
   "metadata": {},
   "source": [
    "## For Restaurants in Toronto"
   ]
  },
  {
   "cell_type": "code",
   "execution_count": 71,
   "metadata": {},
   "outputs": [
    {
     "data": {
      "text/plain": [
       "<matplotlib.legend.Legend at 0x1a21cd29e8>"
      ]
     },
     "execution_count": 71,
     "metadata": {},
     "output_type": "execute_result"
    },
    {
     "data": {
      "image/png": "[encoded data removed]",
      "text/plain": [
       "<Figure size 432x288 with 1 Axes>"
      ]
     },
     "metadata": {
      "needs_background": "light"
     },
     "output_type": "display_data"
    }
   ],
   "source": [
    "errors_cs_res_trt_val = {}\n",
    "errors_cs_res_trt_train = {}\n",
    "k_cs = np.arange(1, 40)\n",
    "simi_trt_res = similarity_matrix(sm_u_10_trt_res_train, between='res')\n",
    "simi_trt_res = np.array(simi_trt_res)\n",
    "for i in k_cs:\n",
    "    preds_cs_res_trt = predict_topk_nobias(np.array(sm_u_10_trt_res_train.todense()),simi_trt_res,kind='res', k=i)\n",
    "    error_cs_val = get_mse(preds_cs_res_trt, np.array(sm_u_10_trt_res_val.todense()))\n",
    "    error_cs_train = get_mse(preds_cs_res_trt, np.array(sm_u_10_trt_res_train.todense()))\n",
    "    errors_cs_res_trt_val[i] = error_cs_val\n",
    "    errors_cs_res_trt_train[i] = error_cs_train\n",
    "plt.plot(errors_cs_res_trt_val.keys(),errors_cs_res_trt_val.values(), label = 'Validation')\n",
    "plt.plot(errors_cs_res_trt_train.keys(),errors_cs_res_trt_train.values(), label = 'Train')\n",
    "plt.xlabel('K Neighbors')\n",
    "plt.ylabel('MSE')\n",
    "plt.title('Cosine Similarity: MSE (train/Val) vs K (Toronto Restaurants)')\n",
    "plt.legend()"
   ]
  },
  {
   "cell_type": "code",
   "execution_count": 72,
   "metadata": {},
   "outputs": [
    {
     "name": "stdout",
     "output_type": "stream",
     "text": [
      "Best Validation MSE for Cosine Similarity for Restaurants in Toronto=  13.820859950440104\n"
     ]
    }
   ],
   "source": [
    "preds_cosine_trt = predict_topk_nobias(np.array(sm_u_10_trt_res_train.todense()),simi_trt_res,kind='res', k=40)\n",
    "Best_Val_MSE_Cosine_trt = get_mse(preds_cosine_trt, np.array(sm_u_10_trt_res_val.todense()))\n",
    "print('Best Validation MSE for Cosine Similarity for Restaurants in Toronto= ', Best_Val_MSE_Cosine_trt)"
   ]
  },
  {
   "cell_type": "code",
   "execution_count": 73,
   "metadata": {},
   "outputs": [],
   "source": [
    "train_preds_cosine_trt = preds_cosine_trt[train_trt_nnz]\n",
    "val_preds_cosine_trt = preds_cosine_trt[val_trt_nnz]\n",
    "test_preds_cosine_trt = preds_cosine_trt[test_trt_nnz]"
   ]
  },
  {
   "cell_type": "markdown",
   "metadata": {},
   "source": [
    "# 3.3 ALS:"
   ]
  },
  {
   "cell_type": "code",
   "execution_count": 74,
   "metadata": {},
   "outputs": [],
   "source": [
    "def als(ratings_matrix, k=40, user_reg=0, res_reg=0, iters=10):\n",
    "    '''Performs ALS for a given ratings_matrix and returns predictions using the latent vector representation User (U x K) and Restaurant (R x K)'''\n",
    "    ratings_matrix = ratings_matrix.T\n",
    "    user_vec = np.random.rand(ratings_matrix.shape[1],k).T\n",
    "    res_vec = np.random.rand(ratings_matrix.shape[0],k).T\n",
    "    for i in range(iters):\n",
    "        for u in range(ratings_matrix.shape[1]):\n",
    "            user_vec[:,u] = np.linalg.solve(np.dot(res_vec,res_vec.T) + user_reg * np.eye(res_vec.shape[0]), np.dot(res_vec,ratings_matrix[:,u]))\n",
    "        for r in range(ratings_matrix.shape[0]):\n",
    "            res_vec[:,r] = np.linalg.solve(np.dot(user_vec,user_vec.T) + res_reg * np.eye(user_vec.shape[0]), np.dot(user_vec,ratings_matrix[r,:].T))\n",
    "        prediction = np.dot(res_vec.T, user_vec)\n",
    "#         error = np.mean((ratings_matrix - prediction)**2)\n",
    "    return np.dot(res_vec.T, user_vec).T"
   ]
  },
  {
   "cell_type": "markdown",
   "metadata": {},
   "source": [
    "## For Restaurants in Phoenix"
   ]
  },
  {
   "cell_type": "code",
   "execution_count": 75,
   "metadata": {},
   "outputs": [
    {
     "data": {
      "text/plain": [
       "<matplotlib.legend.Legend at 0x1a2191d5f8>"
      ]
     },
     "execution_count": 75,
     "metadata": {},
     "output_type": "execute_result"
    },
    {
     "data": {
      "image/png": "[encoded data removed]",
      "text/plain": [
       "<Figure size 576x360 with 1 Axes>"
      ]
     },
     "metadata": {
      "needs_background": "light"
     },
     "output_type": "display_data"
    }
   ],
   "source": [
    "num_features = np.linspace(1,20,5,dtype=int)\n",
    "test_error_als = []\n",
    "train_error_als = []\n",
    "for i in num_features:\n",
    "    preds_als = als(np.array(sm_u_10_phx_res_train.todense()), k=i, iters = 5)\n",
    "    test_err = get_mse(preds_als, np.array(sm_u_10_phx_res_val.todense()))\n",
    "    train_err = get_mse(preds_als, np.array(sm_u_10_phx_res_train.todense()))\n",
    "    test_error_als.append(test_err)\n",
    "    train_error_als.append(train_err)\n",
    "\n",
    "fig = plt.figure(figsize=(8,5))\n",
    "plt.plot(num_features,test_error_als,'b-',label = 'validation')\n",
    "plt.plot(num_features,train_error_als,'r-', label = 'training')\n",
    "plt.title('MSE vs num_features (for ALS)')\n",
    "plt.xlabel('Number of features in a feature vector')\n",
    "plt.ylabel('MSE')\n",
    "plt.legend()"
   ]
  },
  {
   "cell_type": "code",
   "execution_count": 76,
   "metadata": {},
   "outputs": [
    {
     "data": {
      "text/plain": [
       "Text(0, 0.5, 'MSE')"
      ]
     },
     "execution_count": 76,
     "metadata": {},
     "output_type": "execute_result"
    },
    {
     "data": {
      "image/png": "[encoded data removed]",
      "text/plain": [
       "<Figure size 576x360 with 1 Axes>"
      ]
     },
     "metadata": {
      "needs_background": "light"
     },
     "output_type": "display_data"
    }
   ],
   "source": [
    "user_reg= np.logspace(-4,3,7)\n",
    "val_error_als = {}\n",
    "# train_error_als = {}\n",
    "fig = plt.figure(figsize=(8,5))\n",
    "for i in user_reg:\n",
    "    val_error_als[i] = []\n",
    "    preds_als = als(np.array(sm_u_10_phx_res_train.todense()),k=10, iters = 5, user_reg=i, res_reg=i)\n",
    "    val_err = get_mse(preds_als, np.array(sm_u_10_phx_res_val.todense()))\n",
    "#         train_err = get_mse(preds_als, np.array(train.todense()))\n",
    "    val_error_als[i].append(val_err)\n",
    "#         train_error_als[i].append(train_err)\n",
    "plt.plot(np.log10(user_reg),val_error_als.values())\n",
    "#     plt.plot(np.log(res_reg),train_error_als[i], label = 'User_reg = '+ str(i))\n",
    "\n",
    "\n",
    "plt.title('MSE vs Regularization')\n",
    "plt.xlabel('Regularization (log Scale) (User Reg =  Res Reg)')\n",
    "plt.ylabel('MSE')"
   ]
  },
  {
   "cell_type": "code",
   "execution_count": 77,
   "metadata": {},
   "outputs": [
    {
     "name": "stdout",
     "output_type": "stream",
     "text": [
      "Best Validation MSE for ALS for Restaurants in Phoenix=  14.605551432081983\n"
     ]
    }
   ],
   "source": [
    "preds_als_phx = als(np.array(sm_u_10_phx_res_train.todense()),k=10, iters = 5, user_reg=0.001 , res_reg=0.001)\n",
    "Best_Val_MSE_als_phx = get_mse(preds_als_phx, np.array(sm_u_10_phx_res_val.todense()))\n",
    "print('Best Validation MSE for ALS for Restaurants in Phoenix= ', Best_Val_MSE_als_phx)"
   ]
  },
  {
   "cell_type": "code",
   "execution_count": 78,
   "metadata": {},
   "outputs": [],
   "source": [
    "train_preds_als_phx = preds_als_phx[train_phx_nnz]\n",
    "val_preds_als_phx = preds_als_phx[val_phx_nnz]\n",
    "test_preds_als_phx = preds_als_phx[test_phx_nnz]"
   ]
  },
  {
   "cell_type": "markdown",
   "metadata": {},
   "source": [
    "## For Restaurants in Toronto"
   ]
  },
  {
   "cell_type": "code",
   "execution_count": 79,
   "metadata": {},
   "outputs": [
    {
     "data": {
      "text/plain": [
       "<matplotlib.legend.Legend at 0x1a210cda58>"
      ]
     },
     "execution_count": 79,
     "metadata": {},
     "output_type": "execute_result"
    },
    {
     "data": {
      "image/png": "[encoded data removed]",
      "text/plain": [
       "<Figure size 576x360 with 1 Axes>"
      ]
     },
     "metadata": {
      "needs_background": "light"
     },
     "output_type": "display_data"
    }
   ],
   "source": [
    "num_features = np.linspace(1,20,5,dtype=int)\n",
    "test_error_als_trt = []\n",
    "train_error_als_trt = []\n",
    "for i in num_features:\n",
    "    preds_als = als(np.array(sm_u_10_trt_res_train.todense()), k=i, iters = 5)\n",
    "    test_err = get_mse(preds_als, np.array(sm_u_10_trt_res_val.todense()))\n",
    "    train_err = get_mse(preds_als, np.array(sm_u_10_trt_res_train.todense()))\n",
    "    test_error_als_trt.append(test_err)\n",
    "    train_error_als_trt.append(train_err)\n",
    "\n",
    "fig = plt.figure(figsize=(8,5))\n",
    "plt.plot(num_features,test_error_als_trt,'b-',label = 'validation')\n",
    "plt.plot(num_features,train_error_als_trt,'r-', label = 'training')\n",
    "plt.title('MSE vs num_features (for ALS)')\n",
    "plt.xlabel('Number of features in a feature vector')\n",
    "plt.ylabel('MSE')\n",
    "plt.legend()"
   ]
  },
  {
   "cell_type": "code",
   "execution_count": 80,
   "metadata": {},
   "outputs": [
    {
     "data": {
      "text/plain": [
       "Text(0, 0.5, 'MSE')"
      ]
     },
     "execution_count": 80,
     "metadata": {},
     "output_type": "execute_result"
    },
    {
     "data": {
      "image/png": "[encoded data removed]",
      "text/plain": [
       "<Figure size 576x360 with 1 Axes>"
      ]
     },
     "metadata": {
      "needs_background": "light"
     },
     "output_type": "display_data"
    }
   ],
   "source": [
    "user_reg= np.logspace(-4,3,7)\n",
    "val_error_als = {}\n",
    "# train_error_als = {}\n",
    "fig = plt.figure(figsize=(8,5))\n",
    "for i in user_reg:\n",
    "    val_error_als[i] = []\n",
    "    preds_als = als(np.array(sm_u_10_trt_res_train.todense()),k=10, iters = 5, user_reg=i, res_reg=i)\n",
    "    val_err = get_mse(preds_als, np.array(sm_u_10_trt_res_val.todense()))\n",
    "#         train_err = get_mse(preds_als, np.array(train.todense()))\n",
    "    val_error_als[i].append(val_err)\n",
    "#         train_error_als[i].append(train_err)\n",
    "plt.plot(np.log10(user_reg),val_error_als.values())\n",
    "#     plt.plot(np.log(res_reg),train_error_als[i], label = 'User_reg = '+ str(i))\n",
    "\n",
    "\n",
    "plt.title('MSE vs Regularization')\n",
    "plt.xlabel('Regularization (log Scale) (User Reg =  Res Reg)')\n",
    "plt.ylabel('MSE')"
   ]
  },
  {
   "cell_type": "code",
   "execution_count": 81,
   "metadata": {},
   "outputs": [
    {
     "name": "stdout",
     "output_type": "stream",
     "text": [
      "Best Validation MSE for ALS for Restaurants in Toronto=  13.710515507232675\n"
     ]
    }
   ],
   "source": [
    "preds_als_trt = als(np.array(sm_u_10_trt_res_train.todense()),k=10, iters = 5, user_reg=0.01, res_reg=0.01)\n",
    "Best_Val_MSE_als_trt = get_mse(preds_als_trt, np.array(sm_u_10_trt_res_val.todense()))\n",
    "print('Best Validation MSE for ALS for Restaurants in Toronto= ', Best_Val_MSE_als_trt)"
   ]
  },
  {
   "cell_type": "code",
   "execution_count": 82,
   "metadata": {},
   "outputs": [],
   "source": [
    "train_preds_als_trt = preds_als_trt[train_trt_nnz]\n",
    "val_preds_als_trt = preds_als_trt[val_trt_nnz]\n",
    "test_preds_als_trt = preds_als_trt[test_trt_nnz]"
   ]
  },
  {
   "cell_type": "markdown",
   "metadata": {},
   "source": [
    "# 3.4 SGD with bias correction"
   ]
  },
  {
   "cell_type": "code",
   "execution_count": 83,
   "metadata": {},
   "outputs": [],
   "source": [
    "def sgd(ratings, k=40, user_bias_reg = 0.01, res_bias_reg = 0.01, user_vec_reg = 0.01, res_vec_reg = 0.01, lr = 1e-3, \n",
    "       iterations = 200):\n",
    "    '''Learn user and res biases along with latent vectors'''\n",
    "    error_array = np.zeros(iterations);\n",
    "    global_bias = np.mean(ratings[np.where(ratings)!=0])\n",
    "    user_bias = 0.1*(2*(np.random.rand(ratings.shape[0]))-1)\n",
    "    res_bias = 0.1*(2*(np.random.rand(ratings.shape[1]))-1)\n",
    "    user_vec = 0.1*(2*(np.random.rand(ratings.shape[0],k))-1)\n",
    "    res_vec = 0.1*(2*(np.random.rand(ratings.shape[1],k))-1)\n",
    "    training_idx = np.arange(ratings.nonzero()[0].shape[0])\n",
    "    np.random.shuffle(training_idx)\n",
    "    nz_rows_idx = ratings.nonzero()[0]\n",
    "    nz_cols_idx = ratings.nonzero()[1]\n",
    "    for i in range(iterations):\n",
    "    \n",
    "#         if(i%20 == 0):\n",
    "#             print('Iteration number: ', i)\n",
    "        lr = 1.0/(100 + 0.01*i)\n",
    "        np.random.shuffle(training_idx)\n",
    "        \n",
    "        temp_error_array = np.zeros(len(training_idx));\n",
    "        for datapoint_i, idx in enumerate(training_idx):\n",
    "            u = nz_rows_idx[idx]\n",
    "            r = nz_cols_idx[idx]\n",
    "            prediction = global_bias + user_bias[u] + res_bias[r] + np.dot(user_vec[u,:], res_vec[r,:].T)\n",
    "            e = (ratings[u,r] - prediction);\n",
    "            temp_error_array[datapoint_i] += e**2;\n",
    "            if i > 0:\n",
    "                user_bias[u] += lr * (e - user_bias_reg * user_bias[u])\n",
    "                res_bias[r] += lr * (e - res_bias_reg * res_bias[r])\n",
    "                user_vec[u,:] += lr * (e * res_vec[r,:] - user_vec_reg * user_vec[u,:])\n",
    "                res_vec[r,:] += lr * (e * user_vec[u,:] - res_vec_reg * res_vec[r,:])\n",
    "            \n",
    "        error_array[i] = np.mean(temp_error_array);\n",
    "#         print(error_array[i])\n",
    "            \n",
    "    predictions = global_bias + user_bias[:, np.newaxis] + res_bias[np.newaxis, :] + np.dot(user_vec, res_vec.T)\n",
    "    predictions[predictions > 5] = 5\n",
    "    predictions[predictions < 0] = 0\n",
    "    \n",
    "    return (predictions, error_array, user_vec, res_vec)"
   ]
  },
  {
   "cell_type": "markdown",
   "metadata": {},
   "source": [
    "## Tuning the Iters hyper-parameter"
   ]
  },
  {
   "cell_type": "markdown",
   "metadata": {},
   "source": [
    "## For Restaurants in Toronto"
   ]
  },
  {
   "cell_type": "code",
   "execution_count": 84,
   "metadata": {},
   "outputs": [
    {
     "name": "stdout",
     "output_type": "stream",
     "text": [
      "iters =  10\n",
      "iters =  20\n",
      "iters =  30\n",
      "iters =  40\n"
     ]
    },
    {
     "data": {
      "text/plain": [
       "<matplotlib.legend.Legend at 0x1a21469400>"
      ]
     },
     "execution_count": 84,
     "metadata": {},
     "output_type": "execute_result"
    },
    {
     "data": {
      "image/png": "[encoded data removed]",
      "text/plain": [
       "<Figure size 576x360 with 1 Axes>"
      ]
     },
     "metadata": {
      "needs_background": "light"
     },
     "output_type": "display_data"
    }
   ],
   "source": [
    "iters = np.arange(10, 50, 10)\n",
    "err_sgd_test = []\n",
    "err_sgd_train = []\n",
    "for i in iters:\n",
    "    print('iters = ',i)\n",
    "    preds_sgd = sgd(np.array(sm_u_10_phx_res_train.todense()), k=10, iterations= i)\n",
    "    err_test = get_mse(preds_sgd[0], np.array(sm_u_10_phx_res_val.todense()))\n",
    "    err_train = get_mse(preds_sgd[0], np.array(sm_u_10_phx_res_train.todense()))\n",
    "    err_sgd_test.append(err_test)\n",
    "    err_sgd_train.append(err_train)\n",
    "fig = plt.figure(figsize=(8,5))\n",
    "plt.plot(iters,err_sgd_test,'b-',label = 'validation')\n",
    "plt.plot(iters,err_sgd_train,'r-', label = 'training')\n",
    "plt.title('MSE_sgd vs Iterations (Restaurants in Phoenix)')\n",
    "plt.xlabel('Iterations')\n",
    "plt.ylabel('MSE')\n",
    "plt.legend()"
   ]
  },
  {
   "cell_type": "markdown",
   "metadata": {},
   "source": [
    "Optimal Number of Iterations = 20"
   ]
  },
  {
   "cell_type": "code",
   "execution_count": 85,
   "metadata": {
    "scrolled": false
   },
   "outputs": [
    {
     "name": "stdout",
     "output_type": "stream",
     "text": [
      "k =  2\n",
      "k =  3\n",
      "k =  4\n",
      "k =  6\n",
      "k =  7\n",
      "k =  9\n",
      "k =  10\n",
      "k =  12\n",
      "k =  13\n",
      "k =  15\n"
     ]
    },
    {
     "data": {
      "text/plain": [
       "<matplotlib.legend.Legend at 0x1a2113d940>"
      ]
     },
     "execution_count": 85,
     "metadata": {},
     "output_type": "execute_result"
    },
    {
     "data": {
      "image/png": "[encoded data removed]",
      "text/plain": [
       "<Figure size 576x360 with 1 Axes>"
      ]
     },
     "metadata": {
      "needs_background": "light"
     },
     "output_type": "display_data"
    }
   ],
   "source": [
    "k = np.linspace(2, 15, 10, dtype = int)\n",
    "err_sgd_test = []\n",
    "err_sgd_train = []\n",
    "for i in k:\n",
    "    print('k = ', i)\n",
    "    preds_sgd = sgd(np.array(sm_u_10_phx_res_train.todense()), k=i, iterations= 20)\n",
    "    err_test = get_mse(preds_sgd[0], np.array(sm_u_10_phx_res_val.todense()))\n",
    "    err_train = get_mse(preds_sgd[0], np.array(sm_u_10_phx_res_train.todense()))\n",
    "    err_sgd_test.append(err_test)\n",
    "    err_sgd_train.append(err_train)\n",
    "fig = plt.figure(figsize=(8,5))\n",
    "plt.plot(k,err_sgd_test,'b-',label = 'validation')\n",
    "plt.plot(k,err_sgd_train,'r-', label = 'training')\n",
    "plt.title('MSE_sgd vs k (Restaurants in Phoenix)')\n",
    "plt.xlabel('k')\n",
    "plt.ylabel('MSE')\n",
    "plt.legend()"
   ]
  },
  {
   "cell_type": "markdown",
   "metadata": {},
   "source": [
    "Optimal K value = 2"
   ]
  },
  {
   "cell_type": "code",
   "execution_count": 86,
   "metadata": {},
   "outputs": [],
   "source": [
    "predictions_sgd_phx, error_array_sgd_phx, user_vec_sgd_phx, res_vec_sgd_phx = sgd(np.array(sm_u_10_phx_res_train.todense()), k=2, iterations= 20)"
   ]
  },
  {
   "cell_type": "code",
   "execution_count": 87,
   "metadata": {},
   "outputs": [
    {
     "name": "stdout",
     "output_type": "stream",
     "text": [
      "Best Validation MSE for SGD for Restaurants in Phoenix=  1.3372404757049332\n"
     ]
    }
   ],
   "source": [
    "preds_sgd_phx = sgd(np.array(sm_u_10_phx_res_train.todense()),k=2, iterations= 20)\n",
    "Best_Val_MSE_sgd_phx = get_mse(preds_sgd_phx[0], np.array(sm_u_10_phx_res_val.todense()))\n",
    "print('Best Validation MSE for SGD for Restaurants in Phoenix= ', Best_Val_MSE_sgd_phx)"
   ]
  },
  {
   "cell_type": "code",
   "execution_count": 88,
   "metadata": {},
   "outputs": [],
   "source": [
    "train_preds_sgd_phx = preds_sgd_phx[0][train_phx_nnz]\n",
    "val_preds_sgd_phx = preds_sgd_phx[0][val_phx_nnz]\n",
    "test_preds_sgd_phx = preds_sgd_phx[0][test_phx_nnz]"
   ]
  },
  {
   "cell_type": "markdown",
   "metadata": {},
   "source": [
    "## For Restaurants in Toronto"
   ]
  },
  {
   "cell_type": "code",
   "execution_count": 89,
   "metadata": {},
   "outputs": [
    {
     "name": "stdout",
     "output_type": "stream",
     "text": [
      "iters =  10\n",
      "iters =  20\n",
      "iters =  30\n",
      "iters =  40\n"
     ]
    },
    {
     "data": {
      "text/plain": [
       "<matplotlib.legend.Legend at 0x1a228f2f60>"
      ]
     },
     "execution_count": 89,
     "metadata": {},
     "output_type": "execute_result"
    },
    {
     "data": {
      "image/png": "[encoded data removed]",
      "text/plain": [
       "<Figure size 576x360 with 1 Axes>"
      ]
     },
     "metadata": {
      "needs_background": "light"
     },
     "output_type": "display_data"
    }
   ],
   "source": [
    "iters = np.arange(10, 50, 10)\n",
    "err_sgd_test_trt = []\n",
    "err_sgd_train_trt = []\n",
    "for i in iters:\n",
    "    print('iters = ',i)\n",
    "    preds_sgd = sgd(np.array(sm_u_10_trt_res_train.todense()), k=10, iterations= i)\n",
    "    err_test = get_mse(preds_sgd[0], np.array(sm_u_10_trt_res_val.todense()))\n",
    "    err_train = get_mse(preds_sgd[0], np.array(sm_u_10_trt_res_train.todense()))\n",
    "    err_sgd_test_trt.append(err_test)\n",
    "    err_sgd_train_trt.append(err_train)\n",
    "fig = plt.figure(figsize=(8,5))\n",
    "plt.plot(iters,err_sgd_test_trt,'b-',label = 'validation')\n",
    "plt.plot(iters,err_sgd_train_trt,'r-', label = 'training')\n",
    "plt.title('MSE_sgd vs Iterations (Restaurants in Toronto)')\n",
    "plt.xlabel('Iterations')\n",
    "plt.ylabel('MSE')\n",
    "plt.legend()"
   ]
  },
  {
   "cell_type": "markdown",
   "metadata": {},
   "source": [
    "Optimal Number of Iterations = 30"
   ]
  },
  {
   "cell_type": "code",
   "execution_count": 90,
   "metadata": {
    "scrolled": false
   },
   "outputs": [
    {
     "name": "stdout",
     "output_type": "stream",
     "text": [
      "k= 2\n",
      "k= 3\n",
      "k= 4\n",
      "k= 6\n",
      "k= 7\n",
      "k= 9\n",
      "k= 10\n",
      "k= 12\n",
      "k= 13\n",
      "k= 15\n"
     ]
    },
    {
     "data": {
      "text/plain": [
       "<matplotlib.legend.Legend at 0x1a22ea7160>"
      ]
     },
     "execution_count": 90,
     "metadata": {},
     "output_type": "execute_result"
    },
    {
     "data": {
      "image/png": "[encoded data removed]",
      "text/plain": [
       "<Figure size 576x360 with 1 Axes>"
      ]
     },
     "metadata": {
      "needs_background": "light"
     },
     "output_type": "display_data"
    }
   ],
   "source": [
    "k = np.linspace(2, 15, 10, dtype = int)\n",
    "err_sgd_val_trt = []\n",
    "err_sgd_train_trt = []\n",
    "for i in k:\n",
    "    print('k=', i)\n",
    "    preds_sgd = sgd(np.array(sm_u_10_trt_res_train.todense()), k=i, iterations= 30)\n",
    "    err_val = get_mse(preds_sgd[0], np.array(sm_u_10_trt_res_val.todense()))\n",
    "    err_train = get_mse(preds_sgd[0], np.array(sm_u_10_trt_res_train.todense()))\n",
    "    err_sgd_val_trt.append(err_val)\n",
    "    err_sgd_train_trt.append(err_train)\n",
    "fig = plt.figure(figsize=(8,5))\n",
    "plt.plot(k,err_sgd_val_trt,'b-',label = 'validation')\n",
    "plt.plot(k,err_sgd_train_trt,'r-', label = 'training')\n",
    "plt.title('MSE_sgd vs k (for Restaurants in Toronto)')\n",
    "plt.xlabel('k')\n",
    "plt.ylabel('MSE')\n",
    "plt.legend()"
   ]
  },
  {
   "cell_type": "markdown",
   "metadata": {},
   "source": [
    "Optimal k value = 2"
   ]
  },
  {
   "cell_type": "code",
   "execution_count": 91,
   "metadata": {},
   "outputs": [],
   "source": [
    "predictions_sgd_trt, error_array_sgd_trt, user_vec_sgd_trt, res_vec_sgd_trt = sgd(np.array(sm_u_10_trt_res_train.todense()), k=2, iterations= 30)"
   ]
  },
  {
   "cell_type": "code",
   "execution_count": 92,
   "metadata": {},
   "outputs": [
    {
     "name": "stdout",
     "output_type": "stream",
     "text": [
      "Best Validation MSE for SGD for Restaurants in Toronto=  1.209075803426941\n"
     ]
    }
   ],
   "source": [
    "preds_sgd_trt = sgd(np.array(sm_u_10_trt_res_train.todense()),k=2, iterations=30)\n",
    "Best_Val_MSE_sgd_trt = get_mse(preds_sgd_trt[0], np.array(sm_u_10_trt_res_val.todense()))\n",
    "print('Best Validation MSE for SGD for Restaurants in Toronto= ', Best_Val_MSE_sgd_trt)"
   ]
  },
  {
   "cell_type": "code",
   "execution_count": 93,
   "metadata": {},
   "outputs": [],
   "source": [
    "train_preds_sgd_trt = preds_sgd_trt[0][train_trt_nnz]\n",
    "val_preds_sgd_trt = preds_sgd_trt[0][val_trt_nnz]\n",
    "test_preds_sgd_trt = preds_sgd_trt[0][test_trt_nnz]"
   ]
  },
  {
   "cell_type": "markdown",
   "metadata": {},
   "source": [
    "## Converting the Matrix Completion Problem into a Regression Problem"
   ]
  },
  {
   "cell_type": "code",
   "execution_count": 94,
   "metadata": {},
   "outputs": [],
   "source": [
    "import pickle\n",
    "def concatenated_SGD(U, V, matrix):\n",
    "    '''Concatenates the User Vector U (n_u x k) and Res Vector V (n_r x K) and returns a matrix of \\ \n",
    "    2k+1 x number of non-zero ratings in rating matrix (matrix)'''\n",
    "    indexes=matrix.nonzero()\n",
    "    users=U[indexes[0]]\n",
    "    rest=V[indexes[1]]\n",
    "    ratings=matrix[indexes].T\n",
    "    concat_sgd=np.concatenate((users,rest,ratings),axis=1)\n",
    "    return concat_sgd"
   ]
  },
  {
   "cell_type": "code",
   "execution_count": 95,
   "metadata": {},
   "outputs": [],
   "source": [
    "train_phx = concatenated_SGD(user_vec_sgd_phx, res_vec_sgd_phx, sm_u_10_phx_res_train)\n",
    "val_phx = concatenated_SGD(user_vec_sgd_phx, res_vec_sgd_phx, sm_u_10_phx_res_val)\n",
    "test_phx = concatenated_SGD(user_vec_sgd_phx, res_vec_sgd_phx, sm_u_10_phx_res_test)"
   ]
  },
  {
   "cell_type": "markdown",
   "metadata": {},
   "source": [
    "## Neural Network"
   ]
  },
  {
   "cell_type": "code",
   "execution_count": 96,
   "metadata": {},
   "outputs": [],
   "source": [
    "import numpy as np\n",
    "\n",
    "import torch\n",
    "from torch.autograd import Variable\n",
    "import torch.nn as nn\n",
    "import torch.nn.functional as F\n",
    "import torch.optim as optim\n",
    "\n",
    "import random\n",
    "import matplotlib.pyplot as plt\n",
    "import pickle"
   ]
  },
  {
   "cell_type": "markdown",
   "metadata": {},
   "source": [
    "## For Restaurants in Phoenix"
   ]
  },
  {
   "cell_type": "code",
   "execution_count": 97,
   "metadata": {},
   "outputs": [],
   "source": [
    "train_mat_phx = np.array(train_phx)\n",
    "val_mat_phx = np.array(val_phx)\n",
    "test_mat_phx = np.array(test_phx)"
   ]
  },
  {
   "cell_type": "code",
   "execution_count": 98,
   "metadata": {},
   "outputs": [],
   "source": [
    "x_train, y_train = train_mat_phx[:, :-1], np.ravel(train_mat_phx[:,-1])\n",
    "x_val, y_val = val_mat_phx[:, :-1], np.ravel(val_mat_phx[:, -1])"
   ]
  },
  {
   "cell_type": "code",
   "execution_count": 99,
   "metadata": {},
   "outputs": [],
   "source": [
    "n_iteration = 1000\n",
    "plot_freq = 100\n",
    "a,b = 100, 0.01\n",
    "batch_size = 10207 #set to -1 for entire train set\n",
    "#batch_size = 5\n",
    "weight_decay = 0.1\n",
    "\n",
    "k = x_train.shape[1]\n",
    "#load objects here\n",
    "max_batch_size = x_train.shape[0]\n",
    "if(batch_size == -1):\n",
    "    batch_size = max_batch_size\n",
    "if(max_batch_size % batch_size != 0):\n",
    "    no_of_batches = int(max_batch_size/batch_size)\n",
    "#original code:\n",
    "#assert(max_batch_size % batch_size == 0);\n",
    "#no_of_batches = int(max_batch_size/batch_size);"
   ]
  },
  {
   "cell_type": "code",
   "execution_count": 100,
   "metadata": {},
   "outputs": [],
   "source": [
    "def get_torch_var(x):\n",
    "        return(Variable(torch.Tensor( x )))"
   ]
  },
  {
   "cell_type": "code",
   "execution_count": 101,
   "metadata": {
    "scrolled": true
   },
   "outputs": [
    {
     "name": "stderr",
     "output_type": "stream",
     "text": [
      "/Users/chipchop/anaconda3/lib/python3.7/site-packages/torch/nn/functional.py:1386: UserWarning: nn.functional.sigmoid is deprecated. Use torch.sigmoid instead.\n",
      "  warnings.warn(\"nn.functional.sigmoid is deprecated. Use torch.sigmoid instead.\")\n",
      "/Users/chipchop/anaconda3/lib/python3.7/site-packages/torch/nn/modules/loss.py:443: UserWarning: Using a target size (torch.Size([10207])) that is different to the input size (torch.Size([10207, 1])). This will likely lead to incorrect results due to broadcasting. Please ensure they have the same size.\n",
      "  return F.mse_loss(input, target, reduction=self.reduction)\n",
      "/Users/chipchop/anaconda3/lib/python3.7/site-packages/torch/nn/modules/loss.py:443: UserWarning: Using a target size (torch.Size([7658])) that is different to the input size (torch.Size([7658, 1])). This will likely lead to incorrect results due to broadcasting. Please ensure they have the same size.\n",
      "  return F.mse_loss(input, target, reduction=self.reduction)\n"
     ]
    }
   ],
   "source": [
    "def plot_loss_curve(loss_array, val_array, i):\n",
    "        fig, x = plt.subplots(1,1);\n",
    "        x.loglog(np.arange(i), loss_array[:i], label=\"train\");\n",
    "        x.loglog(np.arange(i), val_array[:i], label=\"val\");\n",
    "        lgd = x.legend(loc='center left', bbox_to_anchor=(1, 0.5));\n",
    "        x.set_xlabel('Training Iteration (log)');\n",
    "        x.set_ylabel('MSE (log)');\n",
    "        x.set_title('Iteration'+str(i));\n",
    "        fig.savefig('loss_curve.png', format='png', dpi=150,  bbox_extra_artists=(lgd,), bbox_inches='tight');\n",
    "        fig.clear()\n",
    "\n",
    "        fig, x = plt.subplots(1,1);\n",
    "        x.semilogy(np.arange(i), loss_array[:i], label=\"train\");\n",
    "        x.semilogy(np.arange(i), val_array[:i], label=\"val\");\n",
    "        lgd = x.legend(loc='center left', bbox_to_anchor=(1, 0.5));\n",
    "        x.set_xlabel('Training Iteration (linear)');\n",
    "        x.set_ylabel('MSE (log)');\n",
    "        x.set_title('Iteration'+str(i));\n",
    "        fig.savefig('loss_curve_linear.png', format='png', dpi=150, bbox_extra_artists=(lgd,), bbox_inches='tight');\n",
    "        fig.clear()\n",
    "\n",
    "class Net(nn.Module):\n",
    "\n",
    "    def __init__(self, k):\n",
    "        super(Net, self).__init__()\n",
    "        self.k = k;\n",
    "        self.linear1 = nn.Linear(k, 2, bias = True);\n",
    "        self.linear2 = nn.Linear(2, 1, bias = True);\n",
    "\n",
    "    def forward(self, x):\n",
    "        l_1 = self.linear1(x);\n",
    "        n_1 = F.sigmoid(l_1);\n",
    "        l_2 = self.linear2(n_1);\n",
    "        out = F.relu(l_2);\n",
    "        return out\n",
    "\n",
    "net = Net(k)\n",
    "\n",
    "optimizer = optim.Adam(net.parameters(), weight_decay=weight_decay);\n",
    "criterion = nn.MSELoss()\n",
    "\n",
    "loss_array = np.zeros(n_iteration);\n",
    "val_array = np.zeros(n_iteration);\n",
    "\n",
    "for i in range(n_iteration):\n",
    "#     print(i)\n",
    "    lr = np.true_divide(1, a + b*i);\n",
    "    optimizer.param_groups[0]['lr'] = lr;\n",
    "    \n",
    "    loss_array_minibatches = np.zeros(no_of_batches);\n",
    "    random_indices = np.random.permutation(range(max_batch_size));\n",
    "    for batch_i in range(no_of_batches):\n",
    "        selected_idx = random_indices[batch_i * batch_size : (batch_i+1) * batch_size];\n",
    "        input = get_torch_var( x_train[selected_idx, :] );\n",
    "        target = get_torch_var( y_train[selected_idx] );\n",
    "        out = net(input);\n",
    "        loss = criterion(out, target);\n",
    "\n",
    "        optimizer.zero_grad()   # zero the gradient buffers\n",
    "        loss.backward()\n",
    "        optimizer.step()    # Does the update\n",
    "\n",
    "        loss_array_minibatches[batch_i] = loss.data.numpy()\n",
    "    \n",
    "    loss_array[i] = np.mean(loss_array_minibatches);\n",
    "    val_input = get_torch_var( x_val );\n",
    "    val_target = get_torch_var( y_val );\n",
    "    val_out = net(val_input);\n",
    "    val_loss = criterion(val_out, val_target);\n",
    "    val_array[i] = val_loss.data.numpy()\n",
    "    \n",
    "    if(i % plot_freq == 0):\n",
    "        plot_loss_curve(loss_array, val_array, i);\n",
    "        plt.close('all');"
   ]
  },
  {
   "cell_type": "code",
   "execution_count": 102,
   "metadata": {},
   "outputs": [
    {
     "name": "stdout",
     "output_type": "stream",
     "text": [
      "Validation Error for NN for Restaurants in Phoenix =  1.4456250667572021\n"
     ]
    }
   ],
   "source": [
    "val_err_nn = val_array[-1]\n",
    "print('Validation Error for NN for Restaurants in Phoenix = ', val_err_nn)"
   ]
  },
  {
   "cell_type": "code",
   "execution_count": 103,
   "metadata": {},
   "outputs": [],
   "source": [
    "train_preds_nn_phx = np.ravel(net(get_torch_var(x_train)).data.numpy())\n",
    "val_preds_nn_phx = np.ravel(net(get_torch_var(x_val)).data.numpy())\n",
    "test_preds_nn_phx = np.ravel(net(get_torch_var(test_mat_phx[:, :-1])).data.numpy())"
   ]
  },
  {
   "cell_type": "markdown",
   "metadata": {},
   "source": [
    "## For Restaurants in Toronto"
   ]
  },
  {
   "cell_type": "code",
   "execution_count": 104,
   "metadata": {},
   "outputs": [],
   "source": [
    "train_trt = concatenated_SGD(user_vec_sgd_trt, res_vec_sgd_trt, sm_u_10_trt_res_train)\n",
    "val_trt = concatenated_SGD(user_vec_sgd_trt, res_vec_sgd_trt, sm_u_10_trt_res_val)\n",
    "test_trt = concatenated_SGD(user_vec_sgd_trt, res_vec_sgd_trt, sm_u_10_trt_res_test)"
   ]
  },
  {
   "cell_type": "code",
   "execution_count": 105,
   "metadata": {},
   "outputs": [],
   "source": [
    "train_mat_trt = np.array(train_trt);\n",
    "val_mat_trt = np.array(val_trt);\n",
    "test_mat_trt = np.array(test_trt);"
   ]
  },
  {
   "cell_type": "code",
   "execution_count": 106,
   "metadata": {},
   "outputs": [],
   "source": [
    "x_train, y_train = train_mat_trt[:, :-1], np.ravel(train_mat_trt[:,-1]);\n",
    "x_val, y_val = val_mat_trt[:, :-1], np.ravel(val_mat_trt[:, -1])"
   ]
  },
  {
   "cell_type": "code",
   "execution_count": 107,
   "metadata": {},
   "outputs": [
    {
     "data": {
      "text/plain": [
       "(97989, 4)"
      ]
     },
     "execution_count": 107,
     "metadata": {},
     "output_type": "execute_result"
    }
   ],
   "source": [
    "x_train.shape"
   ]
  },
  {
   "cell_type": "code",
   "execution_count": 108,
   "metadata": {},
   "outputs": [],
   "source": [
    "n_iteration = 1000;\n",
    "plot_freq = 100;\n",
    "a,b = 100, 0.01;\n",
    "batch_size = 18902; #set to -1 for entire train set\n",
    "# batch_size = 5;\n",
    "weight_decay = 0.1;\n",
    "\n",
    "k = x_train.shape[1];\n",
    "#load objects here\n",
    "max_batch_size = x_train.shape[0];\n",
    "if(batch_size == -1):\n",
    "    batch_size = max_batch_size;\n",
    "if(max_batch_size % batch_size != 0):\n",
    "    no_of_batches = int(max_batch_size/batch_size)"
   ]
  },
  {
   "cell_type": "code",
   "execution_count": 109,
   "metadata": {},
   "outputs": [],
   "source": [
    "def get_torch_var(x):\n",
    "        return(Variable(torch.Tensor( x )))"
   ]
  },
  {
   "cell_type": "code",
   "execution_count": 111,
   "metadata": {},
   "outputs": [],
   "source": [
    "def plot_loss_curve(loss_array, val_array, i):\n",
    "        fig, x = plt.subplots(1,1);\n",
    "        x.loglog(np.arange(i), loss_array[:i], label=\"train\");\n",
    "        x.loglog(np.arange(i), val_array[:i], label=\"val\");\n",
    "        lgd = x.legend(loc='center left', bbox_to_anchor=(1, 0.5));\n",
    "        x.set_xlabel('Training Iteration (log)');\n",
    "        x.set_ylabel('MSE (log)');\n",
    "        x.set_title('Iteration'+str(i));\n",
    "        fig.savefig('loss_curve.png', format='png', dpi=150,  bbox_extra_artists=(lgd,), bbox_inches='tight');\n",
    "        fig.clear()\n",
    "\n",
    "        fig, x = plt.subplots(1,1);\n",
    "        x.semilogy(np.arange(i), loss_array[:i], label=\"train\");\n",
    "        x.semilogy(np.arange(i), val_array[:i], label=\"val\");\n",
    "        lgd = x.legend(loc='center left', bbox_to_anchor=(1, 0.5));\n",
    "        x.set_xlabel('Training Iteration (linear)');\n",
    "        x.set_ylabel('MSE (log)');\n",
    "        x.set_title('Iteration'+str(i));\n",
    "        fig.savefig('loss_curve_linear.png', format='png', dpi=150,  bbox_extra_artists=(lgd,), bbox_inches='tight');\n",
    "        fig.clear()\n",
    "\n",
    "class Net(nn.Module):\n",
    "\n",
    "    def __init__(self, k):\n",
    "        super(Net, self).__init__()\n",
    "        self.k = k;\n",
    "        self.linear1 = nn.Linear(k, 2, bias = True);\n",
    "        self.linear2 = nn.Linear(2, 1, bias = True);\n",
    "\n",
    "    def forward(self, x):\n",
    "        l_1 = self.linear1(x);\n",
    "        n_1 = F.sigmoid(l_1);\n",
    "        l_2 = self.linear2(n_1);\n",
    "        out = F.relu(l_2);\n",
    "        return out\n",
    "\n",
    "net = Net(k)\n",
    "\n",
    "optimizer = optim.Adam(net.parameters(), weight_decay=weight_decay);\n",
    "criterion = nn.MSELoss()\n",
    "\n",
    "loss_array = np.zeros(n_iteration);\n",
    "val_array = np.zeros(n_iteration);\n",
    "\n",
    "for i in range(n_iteration):\n",
    "#     print(i)\n",
    "    lr = np.true_divide(1, a + b*i);\n",
    "    optimizer.param_groups[0]['lr'] = lr;\n",
    "    \n",
    "    loss_array_minibatches = np.zeros(no_of_batches);\n",
    "    random_indices = np.random.permutation(range(max_batch_size));\n",
    "    for batch_i in range(no_of_batches):\n",
    "        selected_idx = random_indices[batch_i * batch_size : (batch_i+1) * batch_size];\n",
    "        input = get_torch_var( x_train[selected_idx, :] );\n",
    "        target = get_torch_var( y_train[selected_idx] );\n",
    "        out = net(input);\n",
    "        loss = criterion(out, target);\n",
    "\n",
    "        optimizer.zero_grad()   # zero the gradient buffers\n",
    "        loss.backward()\n",
    "        optimizer.step()    # Does the update\n",
    "\n",
    "        loss_array_minibatches[batch_i] = loss.data.numpy()\n",
    "    \n",
    "    loss_array[i] = np.mean(loss_array_minibatches);\n",
    "    val_input = get_torch_var( x_val );\n",
    "    val_target = get_torch_var( y_val );\n",
    "    val_out = net(val_input);\n",
    "    val_loss = criterion(val_out, val_target);\n",
    "    val_array[i] = val_loss.data.numpy()\n",
    "    \n",
    "    if(i % plot_freq == 0):\n",
    "        plot_loss_curve(loss_array, val_array, i);\n",
    "        plt.close('all');"
   ]
  },
  {
   "cell_type": "code",
   "execution_count": 112,
   "metadata": {},
   "outputs": [
    {
     "name": "stdout",
     "output_type": "stream",
     "text": [
      "Validation Error for NN for Restaurants in Toronto =  1.3563412427902222\n"
     ]
    }
   ],
   "source": [
    "val_err_nn_trt = val_array[-1]\n",
    "print('Validation Error for NN for Restaurants in Toronto = ', val_err_nn_trt)"
   ]
  },
  {
   "cell_type": "code",
   "execution_count": 113,
   "metadata": {},
   "outputs": [],
   "source": [
    "train_preds_nn_trt = np.ravel(net(get_torch_var(x_train)).data.numpy())\n",
    "val_preds_nn_trt = np.ravel(net(get_torch_var(x_val)).data.numpy())\n",
    "test_preds_nn_trt = np.ravel(net(get_torch_var(test_mat_trt[:, :-1])).data.numpy())"
   ]
  },
  {
   "cell_type": "markdown",
   "metadata": {},
   "source": [
    "## Random Forest Regressor"
   ]
  },
  {
   "cell_type": "markdown",
   "metadata": {},
   "source": [
    "## For Restaurants in Phoenix"
   ]
  },
  {
   "cell_type": "code",
   "execution_count": 114,
   "metadata": {},
   "outputs": [
    {
     "name": "stderr",
     "output_type": "stream",
     "text": [
      "/Users/chipchop/anaconda3/lib/python3.7/site-packages/sklearn/ensemble/forest.py:246: FutureWarning: The default value of n_estimators will change from 10 in version 0.20 to 100 in 0.22.\n",
      "  \"10 in version 0.20 to 100 in 0.22.\", FutureWarning)\n"
     ]
    },
    {
     "name": "stdout",
     "output_type": "stream",
     "text": [
      "MSE for Random Forest Classifier for Restaurants in Phoenix =  1.4296046124128399\n"
     ]
    }
   ],
   "source": [
    "from sklearn.ensemble import RandomForestRegressor\n",
    "rf=RandomForestRegressor(max_depth=5)\n",
    "rf.fit(train_mat_phx[:,:4],train_mat_phx[:,4])\n",
    "preds_rf_phx=rf.predict(val_mat_phx[:,:4]).reshape(-1,1)\n",
    "MSE_rf_phx = get_mse(preds_rf_phx, val_mat_phx[:,4])\n",
    "print('MSE for Random Forest Classifier for Restaurants in Phoenix = ', MSE_rf_phx)"
   ]
  },
  {
   "cell_type": "code",
   "execution_count": 115,
   "metadata": {},
   "outputs": [],
   "source": [
    "train_preds_rf_phx = rf.predict(train_mat_phx[:,:4])\n",
    "val_preds_rf_phx = rf.predict(val_mat_phx[:,:4])\n",
    "test_preds_rf_phx = rf.predict(test_mat_phx[:,:4])"
   ]
  },
  {
   "cell_type": "markdown",
   "metadata": {},
   "source": [
    "## For Restaurants in Toronto"
   ]
  },
  {
   "cell_type": "code",
   "execution_count": 116,
   "metadata": {
    "scrolled": true
   },
   "outputs": [
    {
     "name": "stdout",
     "output_type": "stream",
     "text": [
      "MSE for Random Forest Classifier for Restaurants in Phoenix =  1.33741480859332\n"
     ]
    }
   ],
   "source": [
    "rf_trt = RandomForestRegressor(max_depth=5)\n",
    "rf.fit(train_mat_trt[:,:4],train_mat_trt[:,4])\n",
    "preds_rf_trt = rf.predict(val_mat_trt[:,:4]).reshape(-1,1)\n",
    "MSE_rf_trt = get_mse(preds_rf_trt, val_mat_trt[:,4])\n",
    "print('MSE for Random Forest Classifier for Restaurants in Phoenix = ', MSE_rf_trt)"
   ]
  },
  {
   "cell_type": "code",
   "execution_count": 117,
   "metadata": {},
   "outputs": [],
   "source": [
    "train_preds_rf_trt = rf.predict(train_mat_trt[:,:4])\n",
    "val_preds_rf_trt = rf.predict(val_mat_trt[:,:4])\n",
    "test_preds_rf_trt = rf.predict(test_mat_trt[:,:4])"
   ]
  },
  {
   "cell_type": "markdown",
   "metadata": {},
   "source": [
    "## Ensemble of all the Predictors (SVD, Cosine Model, ALS, SGD, NN, RF)"
   ]
  },
  {
   "cell_type": "code",
   "execution_count": 118,
   "metadata": {
    "scrolled": true
   },
   "outputs": [
    {
     "data": {
      "text/plain": [
       "(72294,)"
      ]
     },
     "execution_count": 118,
     "metadata": {},
     "output_type": "execute_result"
    }
   ],
   "source": [
    "train_preds_svd_phx.shape"
   ]
  },
  {
   "cell_type": "code",
   "execution_count": 119,
   "metadata": {},
   "outputs": [],
   "source": [
    "def build_ensemble_df(svd, cosine,als, sgd, nn, rf):\n",
    "    df =pd.DataFrame(svd)\n",
    "    df.columns = ['SVD']\n",
    "    df['Cosine'] = cosine\n",
    "    df['ALS'] = als\n",
    "    df['SGD'] = sgd\n",
    "    df['Neural_Network'] = nn\n",
    "    df['Random Forest'] = rf\n",
    "    return df"
   ]
  },
  {
   "cell_type": "code",
   "execution_count": 120,
   "metadata": {},
   "outputs": [],
   "source": [
    "ensemble_training_phx_df = build_ensemble_df(train_preds_svd_phx,train_preds_cosine_phx, train_preds_als_phx, train_preds_sgd_phx, train_preds_nn_phx, train_preds_rf_phx)\n",
    "ensemble_validation_phx_df = build_ensemble_df(val_preds_svd_phx,val_preds_cosine_phx, val_preds_als_phx, val_preds_sgd_phx, val_preds_nn_phx, val_preds_rf_phx)\n",
    "ensemble_testing_phx_df = build_ensemble_df(test_preds_svd_phx,test_preds_cosine_phx, test_preds_als_phx, test_preds_sgd_phx, test_preds_nn_phx, test_preds_rf_phx)"
   ]
  },
  {
   "cell_type": "code",
   "execution_count": 121,
   "metadata": {},
   "outputs": [],
   "source": [
    "y_train_phx = np.ravel(np.array(sm_u_10_phx_res_train[train_phx_nnz]))\n",
    "y_val_phx = np.ravel(np.array(sm_u_10_phx_res_val[val_phx_nnz]))\n",
    "y_test_phx = np.ravel(np.array(sm_u_10_phx_res_test[test_phx_nnz]))"
   ]
  },
  {
   "cell_type": "code",
   "execution_count": 122,
   "metadata": {},
   "outputs": [],
   "source": [
    "ensemble_training_trt_df = build_ensemble_df(train_preds_svd_trt,train_preds_cosine_trt, train_preds_als_trt, train_preds_sgd_trt, train_preds_nn_trt, train_preds_rf_trt)\n",
    "ensemble_validation_trt_df = build_ensemble_df(val_preds_svd_trt,val_preds_cosine_trt, val_preds_als_trt, val_preds_sgd_trt, val_preds_nn_trt, val_preds_rf_trt)\n",
    "ensemble_testing_trt_df = build_ensemble_df(test_preds_svd_trt,test_preds_cosine_trt, test_preds_als_trt, test_preds_sgd_trt, test_preds_nn_trt, test_preds_rf_trt)"
   ]
  },
  {
   "cell_type": "code",
   "execution_count": 123,
   "metadata": {},
   "outputs": [],
   "source": [
    "y_train_trt = np.ravel(np.array(sm_u_10_trt_res_train[train_trt_nnz]))\n",
    "y_val_trt = np.ravel(np.array(sm_u_10_trt_res_val[val_trt_nnz]))\n",
    "y_test_trt = np.ravel(np.array(sm_u_10_trt_res_test[test_trt_nnz]))"
   ]
  },
  {
   "cell_type": "code",
   "execution_count": 124,
   "metadata": {},
   "outputs": [],
   "source": [
    "from sklearn.linear_model import LinearRegression"
   ]
  },
  {
   "cell_type": "markdown",
   "metadata": {},
   "source": [
    "## For Restaurants in Phoenix"
   ]
  },
  {
   "cell_type": "code",
   "execution_count": 125,
   "metadata": {},
   "outputs": [
    {
     "name": "stdout",
     "output_type": "stream",
     "text": [
      "MSE of the ensemble of Models for restaurants in Phoenix =  1.2956592987957094\n"
     ]
    }
   ],
   "source": [
    "lr_phx = LinearRegression(fit_intercept=True)\n",
    "lr_phx.fit(ensemble_training_phx_df.iloc[:,-3:], y_train_phx)\n",
    "ensemble_val_pred_phx = lr_phx.predict(ensemble_validation_phx_df.iloc[:,-3:])\n",
    "MSE_ensemble_phx = get_mse(ensemble_val_pred_phx,y_val_phx)\n",
    "print('MSE of the ensemble of Models for restaurants in Phoenix = ', MSE_ensemble_phx)"
   ]
  },
  {
   "cell_type": "markdown",
   "metadata": {},
   "source": [
    "Ridge Regression with high penalty"
   ]
  },
  {
   "cell_type": "code",
   "execution_count": 126,
   "metadata": {
    "scrolled": true
   },
   "outputs": [
    {
     "name": "stdout",
     "output_type": "stream",
     "text": [
      "MSE of the ensemble of Models for restaurants in Phoenix =  1.2307588538199767\n"
     ]
    }
   ],
   "source": [
    "from sklearn.linear_model import Ridge\n",
    "lrr_phx = Ridge(alpha = 10000)\n",
    "lrr_phx.fit(ensemble_training_phx_df.iloc[:,-3:], y_train_phx)\n",
    "ensemble_val_pred_phx = lrr_phx.predict(ensemble_validation_phx_df.iloc[:,-3:])\n",
    "MSE_ensemble_phx = get_mse(ensemble_val_pred_phx,y_val_phx)\n",
    "print('MSE of the ensemble of Models for restaurants in Phoenix = ', MSE_ensemble_phx)"
   ]
  },
  {
   "cell_type": "markdown",
   "metadata": {},
   "source": [
    "## For Restaurants in Toronto"
   ]
  },
  {
   "cell_type": "code",
   "execution_count": 127,
   "metadata": {},
   "outputs": [
    {
     "name": "stdout",
     "output_type": "stream",
     "text": [
      "MSE of the ensemble of Models for restaurants in Toronto =  1.2069099415525266\n"
     ]
    }
   ],
   "source": [
    "lr_trt = LinearRegression(fit_intercept=True)\n",
    "lr_trt.fit(ensemble_training_trt_df.iloc[:,-3:], y_train_trt)\n",
    "ensemble_val_pred_trt = lr_trt.predict(ensemble_validation_trt_df.iloc[:,-3:])\n",
    "MSE_ensemble_trt = get_mse(ensemble_val_pred_trt,y_val_trt)\n",
    "print('MSE of the ensemble of Models for restaurants in Toronto = ', MSE_ensemble_trt)"
   ]
  },
  {
   "cell_type": "markdown",
   "metadata": {},
   "source": [
    "Ridge Regression with high penalty"
   ]
  },
  {
   "cell_type": "code",
   "execution_count": 128,
   "metadata": {},
   "outputs": [
    {
     "name": "stdout",
     "output_type": "stream",
     "text": [
      "MSE of the ensemble of Models for restaurants in Toronto =  1.149327817440711\n"
     ]
    }
   ],
   "source": [
    "lrr_trt = Ridge(alpha = 10000)\n",
    "lrr_trt.fit(ensemble_training_trt_df.iloc[:,-3:], y_train_trt)\n",
    "ensemble_val_pred_trt = lrr_trt.predict(ensemble_validation_trt_df.iloc[:,-3:])\n",
    "MSE_ensemble_trt = get_mse(ensemble_val_pred_trt,y_val_trt)\n",
    "print('MSE of the ensemble of Models for restaurants in Toronto = ', MSE_ensemble_trt)"
   ]
  },
  {
   "cell_type": "markdown",
   "metadata": {},
   "source": [
    "# 4. Testing the best model on the test data and checking the test accuracy"
   ]
  },
  {
   "cell_type": "markdown",
   "metadata": {},
   "source": [
    "## For the restaurants in Phoenix and Toronto, the best model was the ensemble model."
   ]
  },
  {
   "cell_type": "code",
   "execution_count": 129,
   "metadata": {},
   "outputs": [
    {
     "name": "stdout",
     "output_type": "stream",
     "text": [
      "MSE of the ensemble of Models for restaurants in Phoenix (test) =  1.2372771935348452\n"
     ]
    }
   ],
   "source": [
    "ensemble_test_pred_phx = lrr_phx.predict(ensemble_testing_phx_df.iloc[:,-3:])\n",
    "MSE_test_phx = get_mse(ensemble_test_pred_phx,y_test_phx)\n",
    "print('MSE of the ensemble of Models for restaurants in Phoenix (test) = ', MSE_test_phx)"
   ]
  },
  {
   "cell_type": "code",
   "execution_count": 130,
   "metadata": {},
   "outputs": [
    {
     "name": "stdout",
     "output_type": "stream",
     "text": [
      "MSE of the ensemble of Models for restaurants in Toronto (test) =  1.1863177116636197\n"
     ]
    }
   ],
   "source": [
    "ensemble_test_pred_trt = lrr_trt.predict(ensemble_testing_trt_df.iloc[:,-3:])\n",
    "MSE_test_trt = get_mse(ensemble_test_pred_trt,y_test_trt)\n",
    "print('MSE of the ensemble of Models for restaurants in Toronto (test) = ', MSE_test_trt)"
   ]
  },
  {
   "cell_type": "code",
   "execution_count": null,
   "metadata": {},
   "outputs": [],
   "source": []
  }
 ],
 "metadata": {
  "kernelspec": {
   "display_name": "Python 3",
   "language": "python",
   "name": "python3"
  },
  "language_info": {
   "codemirror_mode": {
    "name": "ipython",
    "version": 3
   },
   "file_extension": ".py",
   "mimetype": "text/x-python",
   "name": "python",
   "nbconvert_exporter": "python",
   "pygments_lexer": "ipython3",
   "version": "3.7.1"
  }
 },
 "nbformat": 4,
 "nbformat_minor": 2
}

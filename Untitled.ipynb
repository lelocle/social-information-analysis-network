{
 "cells": [
  {
   "cell_type": "code",
   "execution_count": 2,
   "metadata": {},
   "outputs": [],
   "source": [
    "import csv\n",
    "import json\n",
    "\n",
    "with open('yelp_academic_dataset_checkin.json', 'r', newline='') as infile, open('output.csv', 'w',newline='') as outfile:\n",
    "    writer = csv.writer(outfile, delimiter=',')\n",
    "    for line in infile:\n",
    "        d = json.loads(line)\n",
    "        writer.writerows(d.items())"
   ]
  },
  {
   "cell_type": "code",
   "execution_count": null,
   "metadata": {},
   "outputs": [],
   "source": [
    "import json, csv\n",
    "import pandas as pd\n",
    "#To maintain key value pair order\n",
    "with open('yelp_academic_dataset_checkin.json', 'r',encoding='utf-8') as f:\n",
    "    #data = f.readlines()\n",
    "    #data = json.load(f)\n",
    "    data = pd.read_json('yelp_academic_dataset_checkin.json')\n",
    "#_json=json.loads(open('yelp_academic_dataset_checkin.json', 'r').read(), object_pairs_hook=OrderedDict) \n",
    "with open('output.csv', 'w') as out:\n",
    "    writer = csv.writer(out, delimiter=',')               #create a csv.write\n",
    "#writer.writerow(data[0])      # header row\n",
    "    for row in data:\n",
    "        writer.writerow(row)\n",
    "    f.close()"
   ]
  },
  {
   "cell_type": "code",
   "execution_count": null,
   "metadata": {},
   "outputs": [],
   "source": [
    "business_id, name, address, city,state, postal_code, latitude, longitude, stars"
   ]
  },
  {
   "cell_type": "code",
   "execution_count": null,
   "metadata": {},
   "outputs": [],
   "source": []
  },
  {
   "cell_type": "code",
   "execution_count": null,
   "metadata": {},
   "outputs": [],
   "source": []
  },
  {
   "cell_type": "code",
   "execution_count": null,
   "metadata": {},
   "outputs": [],
   "source": []
  }
 ],
 "metadata": {
  "kernelspec": {
   "display_name": "Python 3",
   "language": "python",
   "name": "python3"
  },
  "language_info": {
   "codemirror_mode": {
    "name": "ipython",
    "version": 3
   },
   "file_extension": ".py",
   "mimetype": "text/x-python",
   "name": "python",
   "nbconvert_exporter": "python",
   "pygments_lexer": "ipython3",
   "version": "3.6.8"
  }
 },
 "nbformat": 4,
 "nbformat_minor": 2
}
